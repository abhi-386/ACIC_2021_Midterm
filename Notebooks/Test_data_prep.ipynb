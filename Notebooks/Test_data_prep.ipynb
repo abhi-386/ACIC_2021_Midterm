{
  "nbformat": 4,
  "nbformat_minor": 0,
  "metadata": {
    "kernelspec": {
      "display_name": "Python 3",
      "language": "python",
      "name": "python3"
    },
    "language_info": {
      "codemirror_mode": {
        "name": "ipython",
        "version": 3
      },
      "file_extension": ".py",
      "mimetype": "text/x-python",
      "name": "python",
      "nbconvert_exporter": "python",
      "pygments_lexer": "ipython3",
      "version": "3.8.3"
    },
    "colab": {
      "name": "Test_data_prep.ipynb",
      "provenance": [],
      "collapsed_sections": []
    }
  },
  "cells": [
    {
      "cell_type": "code",
      "metadata": {
        "id": "5cW8U3fquQs3"
      },
      "source": [
        "import pandas as pd\n",
        "import numpy as np\n",
        "import datetime\n",
        "from itertools import cycle\n",
        "import seaborn as sns\n",
        "import matplotlib.pyplot as plt\n",
        "import matplotlib.ticker as ticker\n",
        "import matplotlib.dates as mdates"
      ],
      "execution_count": 1,
      "outputs": []
    },
    {
      "cell_type": "code",
      "metadata": {
        "colab": {
          "base_uri": "https://localhost:8080/"
        },
        "id": "fqdwdn7xXP7G",
        "outputId": "4d320820-fd54-4ead-ae0e-c8e02d4ed05d"
      },
      "source": [
        "from google.colab import drive\n",
        "drive.mount('/content/drive')"
      ],
      "execution_count": 2,
      "outputs": [
        {
          "output_type": "stream",
          "name": "stdout",
          "text": [
            "Mounted at /content/drive\n"
          ]
        }
      ]
    },
    {
      "cell_type": "code",
      "metadata": {
        "id": "Eb-EfFUYuQs5"
      },
      "source": [
        "clusterID = np.load('/content/drive/MyDrive/Colab Notebooks/clusterID_genotype.npy')\n",
        "test_weather = np.load('/content/drive/MyDrive/Colab Notebooks/inputs_weather_test.npy')\n",
        "test_traits = np.load('/content/drive/MyDrive/Colab Notebooks/inputs_others_test.npy')\n"
      ],
      "execution_count": 34,
      "outputs": []
    },
    {
      "cell_type": "markdown",
      "metadata": {
        "id": "q2yTjlAhuQs6"
      },
      "source": [
        "## Organizing Weather Data"
      ]
    },
    {
      "cell_type": "code",
      "metadata": {
        "id": "oC4Fc-xRuQs7"
      },
      "source": [
        "perf_records, days, variables = test_weather.shape"
      ],
      "execution_count": 35,
      "outputs": []
    },
    {
      "cell_type": "code",
      "metadata": {
        "id": "pbM8GlQ5uQs7"
      },
      "source": [
        "out_arr = np.column_stack((np.repeat(np.arange(perf_records),days),test_weather.reshape(perf_records*days,-1)))\n",
        "out_df = pd.DataFrame(out_arr)"
      ],
      "execution_count": 36,
      "outputs": []
    },
    {
      "cell_type": "code",
      "metadata": {
        "id": "_gXcTKFLuQs7"
      },
      "source": [
        "# Building a data frame based on input weather data, with columns named for the variables\n",
        "out_df = pd.DataFrame(out_arr, columns=['Performance Record','ADNI', 'AP', 'ARH', 'MDNI', 'MaxSur', 'MinSur', 'AvgSur'])"
      ],
      "execution_count": 37,
      "outputs": []
    },
    {
      "cell_type": "code",
      "metadata": {
        "id": "uNAXSPKZuQs7"
      },
      "source": [
        "out_df['Performance Record'] = pd.to_numeric(out_df['Performance Record']).astype(int)"
      ],
      "execution_count": 38,
      "outputs": []
    },
    {
      "cell_type": "code",
      "metadata": {
        "id": "q8RMVda_uQs8"
      },
      "source": [
        "## Counts all of the days in Performance Record\n",
        "out_df['Day'] = out_df.groupby('Performance Record').cumcount() + 1"
      ],
      "execution_count": 39,
      "outputs": []
    },
    {
      "cell_type": "code",
      "metadata": {
        "id": "Ekq62LyzuQs8"
      },
      "source": [
        "out_df['Julian_date'] = out_df.groupby('Performance Record').cumcount() + 91"
      ],
      "execution_count": 40,
      "outputs": []
    },
    {
      "cell_type": "code",
      "metadata": {
        "id": "ithD1qk2uQs8"
      },
      "source": [
        "def jdtodatestd (jdate):\n",
        "    fmt = '%j'\n",
        "    datestd = datetime.datetime.strptime(jdate, fmt).date()\n",
        "    return(datestd)"
      ],
      "execution_count": 41,
      "outputs": []
    },
    {
      "cell_type": "code",
      "metadata": {
        "id": "yurvLKz8uQs8"
      },
      "source": [
        "subset = out_df[out_df['Performance Record'] == 0]"
      ],
      "execution_count": 42,
      "outputs": []
    },
    {
      "cell_type": "code",
      "metadata": {
        "id": "BZeTwhNYuQs9"
      },
      "source": [
        "date_list = []\n",
        "for i, row in subset.iterrows():\n",
        "    julian = int(row['Julian_date'])\n",
        "    date = datetime.datetime.strptime(f'{julian}', '%j').date()\n",
        "    clean_date = date.strftime(\"%m-%d\")\n",
        "    date_list.append(clean_date)"
      ],
      "execution_count": 43,
      "outputs": []
    },
    {
      "cell_type": "code",
      "metadata": {
        "id": "mAlnp-uruQs9"
      },
      "source": [
        "date_cycle = cycle(date_list)\n",
        "out_df['date'] = [next(date_cycle) for cycle in range(len(out_df))]"
      ],
      "execution_count": 44,
      "outputs": []
    },
    {
      "cell_type": "code",
      "metadata": {
        "id": "rdDZbyCEYO-2",
        "colab": {
          "base_uri": "https://localhost:8080/",
          "height": 419
        },
        "outputId": "b3b7709a-eda5-4ace-ce25-3419db37257c"
      },
      "source": [
        "out_df"
      ],
      "execution_count": 45,
      "outputs": [
        {
          "output_type": "execute_result",
          "data": {
            "text/html": [
              "<div>\n",
              "<style scoped>\n",
              "    .dataframe tbody tr th:only-of-type {\n",
              "        vertical-align: middle;\n",
              "    }\n",
              "\n",
              "    .dataframe tbody tr th {\n",
              "        vertical-align: top;\n",
              "    }\n",
              "\n",
              "    .dataframe thead th {\n",
              "        text-align: right;\n",
              "    }\n",
              "</style>\n",
              "<table border=\"1\" class=\"dataframe\">\n",
              "  <thead>\n",
              "    <tr style=\"text-align: right;\">\n",
              "      <th></th>\n",
              "      <th>Performance Record</th>\n",
              "      <th>ADNI</th>\n",
              "      <th>AP</th>\n",
              "      <th>ARH</th>\n",
              "      <th>MDNI</th>\n",
              "      <th>MaxSur</th>\n",
              "      <th>MinSur</th>\n",
              "      <th>AvgSur</th>\n",
              "      <th>Day</th>\n",
              "      <th>Julian_date</th>\n",
              "      <th>date</th>\n",
              "    </tr>\n",
              "  </thead>\n",
              "  <tbody>\n",
              "    <tr>\n",
              "      <th>0</th>\n",
              "      <td>0</td>\n",
              "      <td>335.75</td>\n",
              "      <td>0.00</td>\n",
              "      <td>75.67</td>\n",
              "      <td>932.0</td>\n",
              "      <td>80.8</td>\n",
              "      <td>59.2</td>\n",
              "      <td>67.330</td>\n",
              "      <td>1</td>\n",
              "      <td>91</td>\n",
              "      <td>04-01</td>\n",
              "    </tr>\n",
              "    <tr>\n",
              "      <th>1</th>\n",
              "      <td>0</td>\n",
              "      <td>20.75</td>\n",
              "      <td>0.00</td>\n",
              "      <td>66.67</td>\n",
              "      <td>257.0</td>\n",
              "      <td>74.1</td>\n",
              "      <td>62.2</td>\n",
              "      <td>66.020</td>\n",
              "      <td>2</td>\n",
              "      <td>92</td>\n",
              "      <td>04-02</td>\n",
              "    </tr>\n",
              "    <tr>\n",
              "      <th>2</th>\n",
              "      <td>0</td>\n",
              "      <td>300.04</td>\n",
              "      <td>0.02</td>\n",
              "      <td>77.67</td>\n",
              "      <td>978.0</td>\n",
              "      <td>60.7</td>\n",
              "      <td>41.5</td>\n",
              "      <td>52.010</td>\n",
              "      <td>3</td>\n",
              "      <td>93</td>\n",
              "      <td>04-03</td>\n",
              "    </tr>\n",
              "    <tr>\n",
              "      <th>3</th>\n",
              "      <td>0</td>\n",
              "      <td>77.25</td>\n",
              "      <td>0.00</td>\n",
              "      <td>76.04</td>\n",
              "      <td>380.0</td>\n",
              "      <td>67.6</td>\n",
              "      <td>45.5</td>\n",
              "      <td>54.000</td>\n",
              "      <td>4</td>\n",
              "      <td>94</td>\n",
              "      <td>04-04</td>\n",
              "    </tr>\n",
              "    <tr>\n",
              "      <th>4</th>\n",
              "      <td>0</td>\n",
              "      <td>211.50</td>\n",
              "      <td>0.02</td>\n",
              "      <td>84.17</td>\n",
              "      <td>951.0</td>\n",
              "      <td>66.1</td>\n",
              "      <td>43.5</td>\n",
              "      <td>54.430</td>\n",
              "      <td>5</td>\n",
              "      <td>95</td>\n",
              "      <td>04-05</td>\n",
              "    </tr>\n",
              "    <tr>\n",
              "      <th>...</th>\n",
              "      <td>...</td>\n",
              "      <td>...</td>\n",
              "      <td>...</td>\n",
              "      <td>...</td>\n",
              "      <td>...</td>\n",
              "      <td>...</td>\n",
              "      <td>...</td>\n",
              "      <td>...</td>\n",
              "      <td>...</td>\n",
              "      <td>...</td>\n",
              "      <td>...</td>\n",
              "    </tr>\n",
              "    <tr>\n",
              "      <th>2212113</th>\n",
              "      <td>10336</td>\n",
              "      <td>35.67</td>\n",
              "      <td>0.00</td>\n",
              "      <td>75.46</td>\n",
              "      <td>403.0</td>\n",
              "      <td>43.2</td>\n",
              "      <td>35.1</td>\n",
              "      <td>38.950</td>\n",
              "      <td>210</td>\n",
              "      <td>300</td>\n",
              "      <td>10-27</td>\n",
              "    </tr>\n",
              "    <tr>\n",
              "      <th>2212114</th>\n",
              "      <td>10336</td>\n",
              "      <td>182.67</td>\n",
              "      <td>0.00</td>\n",
              "      <td>73.58</td>\n",
              "      <td>653.0</td>\n",
              "      <td>37.4</td>\n",
              "      <td>28.8</td>\n",
              "      <td>33.380</td>\n",
              "      <td>211</td>\n",
              "      <td>301</td>\n",
              "      <td>10-28</td>\n",
              "    </tr>\n",
              "    <tr>\n",
              "      <th>2212115</th>\n",
              "      <td>10336</td>\n",
              "      <td>33.04</td>\n",
              "      <td>0.00</td>\n",
              "      <td>65.46</td>\n",
              "      <td>344.0</td>\n",
              "      <td>37.2</td>\n",
              "      <td>28.0</td>\n",
              "      <td>31.030</td>\n",
              "      <td>212</td>\n",
              "      <td>302</td>\n",
              "      <td>10-29</td>\n",
              "    </tr>\n",
              "    <tr>\n",
              "      <th>2212116</th>\n",
              "      <td>10336</td>\n",
              "      <td>0.00</td>\n",
              "      <td>0.00</td>\n",
              "      <td>83.83</td>\n",
              "      <td>0.0</td>\n",
              "      <td>37.6</td>\n",
              "      <td>33.0</td>\n",
              "      <td>34.165</td>\n",
              "      <td>213</td>\n",
              "      <td>303</td>\n",
              "      <td>10-30</td>\n",
              "    </tr>\n",
              "    <tr>\n",
              "      <th>2212117</th>\n",
              "      <td>10336</td>\n",
              "      <td>0.17</td>\n",
              "      <td>0.00</td>\n",
              "      <td>86.21</td>\n",
              "      <td>4.0</td>\n",
              "      <td>40.6</td>\n",
              "      <td>35.0</td>\n",
              "      <td>37.300</td>\n",
              "      <td>214</td>\n",
              "      <td>304</td>\n",
              "      <td>10-31</td>\n",
              "    </tr>\n",
              "  </tbody>\n",
              "</table>\n",
              "<p>2212118 rows × 11 columns</p>\n",
              "</div>"
            ],
            "text/plain": [
              "         Performance Record    ADNI    AP  ...  Day  Julian_date   date\n",
              "0                         0  335.75  0.00  ...    1           91  04-01\n",
              "1                         0   20.75  0.00  ...    2           92  04-02\n",
              "2                         0  300.04  0.02  ...    3           93  04-03\n",
              "3                         0   77.25  0.00  ...    4           94  04-04\n",
              "4                         0  211.50  0.02  ...    5           95  04-05\n",
              "...                     ...     ...   ...  ...  ...          ...    ...\n",
              "2212113               10336   35.67  0.00  ...  210          300  10-27\n",
              "2212114               10336  182.67  0.00  ...  211          301  10-28\n",
              "2212115               10336   33.04  0.00  ...  212          302  10-29\n",
              "2212116               10336    0.00  0.00  ...  213          303  10-30\n",
              "2212117               10336    0.17  0.00  ...  214          304  10-31\n",
              "\n",
              "[2212118 rows x 11 columns]"
            ]
          },
          "metadata": {},
          "execution_count": 45
        }
      ]
    },
    {
      "cell_type": "markdown",
      "metadata": {
        "id": "yUZmA88zuQs-"
      },
      "source": [
        "## Other Trait Data"
      ]
    },
    {
      "cell_type": "code",
      "metadata": {
        "id": "LzchFDNtuQs-"
      },
      "source": [
        "# Building a data frame based on input data, with columns named for the variables\n",
        "test_trait_df = pd.DataFrame(test_traits, columns=['Maturity Group', 'Genotype ID', 'State', 'Year', 'Location'])"
      ],
      "execution_count": 55,
      "outputs": []
    },
    {
      "cell_type": "code",
      "metadata": {
        "id": "EkIO3a35uQs-"
      },
      "source": [
        "test_trait_df['Year'] = pd.to_numeric(test_trait_df['Year'])\n",
        "test_trait_df['Genotype ID'] = pd.to_numeric(test_trait_df['Genotype ID'])\n",
        "test_trait_df['Year'] = test_trait_df['Year'].astype(int)\n",
        "test_trait_df['Genotype ID'] = test_trait_df['Genotype ID'].astype(int)"
      ],
      "execution_count": 56,
      "outputs": []
    },
    {
      "cell_type": "markdown",
      "metadata": {
        "id": "_9qG7uXnXUNR"
      },
      "source": [
        "# Adding Cluster ID to trait data"
      ]
    },
    {
      "cell_type": "code",
      "metadata": {
        "colab": {
          "base_uri": "https://localhost:8080/"
        },
        "id": "tj3gCT-cWCnV",
        "outputId": "2c7f5529-1261-4a72-fd7a-88653abd727a"
      },
      "source": [
        "print(len(clusterID))"
      ],
      "execution_count": 17,
      "outputs": [
        {
          "output_type": "stream",
          "name": "stdout",
          "text": [
            "5839\n"
          ]
        }
      ]
    },
    {
      "cell_type": "code",
      "metadata": {
        "id": "MMvCBKUvXWzb"
      },
      "source": [
        "cluster_dict = {}\n",
        "for i in range(1, 5839):\n",
        "  array_index = i-1\n",
        "  cID = clusterID[i-1]\n",
        "  cluster_dict.update({i:cID})"
      ],
      "execution_count": 58,
      "outputs": []
    },
    {
      "cell_type": "code",
      "metadata": {
        "id": "PnySWXGoYxLr"
      },
      "source": [
        "cluster_list = []\n",
        "for i in test_trait_df.index:\n",
        "  genotype = test_trait_df.iloc[i]['Genotype ID']\n",
        "  cluster = cluster_dict.get(genotype)\n",
        "  cluster_list.append(cluster)\n",
        "test_trait_df['Cluster'] = cluster_list"
      ],
      "execution_count": 59,
      "outputs": []
    },
    {
      "cell_type": "markdown",
      "metadata": {
        "id": "Vh99ZnEtv4Mg"
      },
      "source": [
        "# Condensed trait data frame"
      ]
    },
    {
      "cell_type": "code",
      "metadata": {
        "id": "d06_hZHe9B5A"
      },
      "source": [
        "test_trait_df['Maturity Group'] = pd.to_numeric(test_trait_df['Maturity Group'])\n",
        "test_trait_df['Maturity Group'] = test_trait_df['Maturity Group'].astype(int)\n"
      ],
      "execution_count": 60,
      "outputs": []
    },
    {
      "cell_type": "code",
      "metadata": {
        "id": "B5KGd3nTwUIP"
      },
      "source": [
        "del test_trait_df['Location']\n",
        "del test_trait_df['Genotype ID']"
      ],
      "execution_count": 61,
      "outputs": []
    },
    {
      "cell_type": "code",
      "metadata": {
        "id": "Y84v1tvnv9Ue"
      },
      "source": [
        "test_trait_df = test_trait_df.reset_index().rename(columns={'index':'Performance Record'})"
      ],
      "execution_count": 63,
      "outputs": []
    },
    {
      "cell_type": "markdown",
      "metadata": {
        "id": "G18osCDeKDdR"
      },
      "source": [
        "# Merging Datasets"
      ]
    },
    {
      "cell_type": "code",
      "metadata": {
        "colab": {
          "base_uri": "https://localhost:8080/",
          "height": 419
        },
        "id": "h-Kd0950KA_3",
        "outputId": "67485891-30ef-468d-b97f-0e27f2b0e746"
      },
      "source": [
        "daily_df = out_df\n",
        "daily_df = daily_df.drop(columns=['Day', 'Julian_date',])\n",
        "expanded_df = pd.concat([test_trait_df]*214, ignore_index=True)\n",
        "expanded_df = expanded_df.sort_values(by = ['Performance Record'])\n",
        "expanded_df"
      ],
      "execution_count": 65,
      "outputs": [
        {
          "output_type": "execute_result",
          "data": {
            "text/html": [
              "<div>\n",
              "<style scoped>\n",
              "    .dataframe tbody tr th:only-of-type {\n",
              "        vertical-align: middle;\n",
              "    }\n",
              "\n",
              "    .dataframe tbody tr th {\n",
              "        vertical-align: top;\n",
              "    }\n",
              "\n",
              "    .dataframe thead th {\n",
              "        text-align: right;\n",
              "    }\n",
              "</style>\n",
              "<table border=\"1\" class=\"dataframe\">\n",
              "  <thead>\n",
              "    <tr style=\"text-align: right;\">\n",
              "      <th></th>\n",
              "      <th>Performance Record</th>\n",
              "      <th>Maturity Group</th>\n",
              "      <th>State</th>\n",
              "      <th>Year</th>\n",
              "      <th>Cluster</th>\n",
              "    </tr>\n",
              "  </thead>\n",
              "  <tbody>\n",
              "    <tr>\n",
              "      <th>0</th>\n",
              "      <td>0</td>\n",
              "      <td>3</td>\n",
              "      <td>\"IA\"</td>\n",
              "      <td>2010</td>\n",
              "      <td>18</td>\n",
              "    </tr>\n",
              "    <tr>\n",
              "      <th>733927</th>\n",
              "      <td>0</td>\n",
              "      <td>3</td>\n",
              "      <td>\"IA\"</td>\n",
              "      <td>2010</td>\n",
              "      <td>18</td>\n",
              "    </tr>\n",
              "    <tr>\n",
              "      <th>1591898</th>\n",
              "      <td>0</td>\n",
              "      <td>3</td>\n",
              "      <td>\"IA\"</td>\n",
              "      <td>2010</td>\n",
              "      <td>18</td>\n",
              "    </tr>\n",
              "    <tr>\n",
              "      <th>2088074</th>\n",
              "      <td>0</td>\n",
              "      <td>3</td>\n",
              "      <td>\"IA\"</td>\n",
              "      <td>2010</td>\n",
              "      <td>18</td>\n",
              "    </tr>\n",
              "    <tr>\n",
              "      <th>103370</th>\n",
              "      <td>0</td>\n",
              "      <td>3</td>\n",
              "      <td>\"IA\"</td>\n",
              "      <td>2010</td>\n",
              "      <td>18</td>\n",
              "    </tr>\n",
              "    <tr>\n",
              "      <th>...</th>\n",
              "      <td>...</td>\n",
              "      <td>...</td>\n",
              "      <td>...</td>\n",
              "      <td>...</td>\n",
              "      <td>...</td>\n",
              "    </tr>\n",
              "    <tr>\n",
              "      <th>1426505</th>\n",
              "      <td>10336</td>\n",
              "      <td>0</td>\n",
              "      <td>\"ND\"</td>\n",
              "      <td>2013</td>\n",
              "      <td>19</td>\n",
              "    </tr>\n",
              "    <tr>\n",
              "      <th>1416168</th>\n",
              "      <td>10336</td>\n",
              "      <td>0</td>\n",
              "      <td>\"ND\"</td>\n",
              "      <td>2013</td>\n",
              "      <td>19</td>\n",
              "    </tr>\n",
              "    <tr>\n",
              "      <th>1405831</th>\n",
              "      <td>10336</td>\n",
              "      <td>0</td>\n",
              "      <td>\"ND\"</td>\n",
              "      <td>2013</td>\n",
              "      <td>19</td>\n",
              "    </tr>\n",
              "    <tr>\n",
              "      <th>1385157</th>\n",
              "      <td>10336</td>\n",
              "      <td>0</td>\n",
              "      <td>\"ND\"</td>\n",
              "      <td>2013</td>\n",
              "      <td>19</td>\n",
              "    </tr>\n",
              "    <tr>\n",
              "      <th>2212117</th>\n",
              "      <td>10336</td>\n",
              "      <td>0</td>\n",
              "      <td>\"ND\"</td>\n",
              "      <td>2013</td>\n",
              "      <td>19</td>\n",
              "    </tr>\n",
              "  </tbody>\n",
              "</table>\n",
              "<p>2212118 rows × 5 columns</p>\n",
              "</div>"
            ],
            "text/plain": [
              "         Performance Record  Maturity Group State  Year  Cluster\n",
              "0                         0               3  \"IA\"  2010       18\n",
              "733927                    0               3  \"IA\"  2010       18\n",
              "1591898                   0               3  \"IA\"  2010       18\n",
              "2088074                   0               3  \"IA\"  2010       18\n",
              "103370                    0               3  \"IA\"  2010       18\n",
              "...                     ...             ...   ...   ...      ...\n",
              "1426505               10336               0  \"ND\"  2013       19\n",
              "1416168               10336               0  \"ND\"  2013       19\n",
              "1405831               10336               0  \"ND\"  2013       19\n",
              "1385157               10336               0  \"ND\"  2013       19\n",
              "2212117               10336               0  \"ND\"  2013       19\n",
              "\n",
              "[2212118 rows x 5 columns]"
            ]
          },
          "metadata": {},
          "execution_count": 65
        }
      ]
    },
    {
      "cell_type": "code",
      "metadata": {
        "colab": {
          "base_uri": "https://localhost:8080/",
          "height": 419
        },
        "id": "TC_1q_LaL_Za",
        "outputId": "2b46aa4c-631e-48d3-f5c6-f2abaf01f012"
      },
      "source": [
        "expanded_df  = expanded_df.reset_index()\n",
        "expanded_df"
      ],
      "execution_count": 66,
      "outputs": [
        {
          "output_type": "execute_result",
          "data": {
            "text/html": [
              "<div>\n",
              "<style scoped>\n",
              "    .dataframe tbody tr th:only-of-type {\n",
              "        vertical-align: middle;\n",
              "    }\n",
              "\n",
              "    .dataframe tbody tr th {\n",
              "        vertical-align: top;\n",
              "    }\n",
              "\n",
              "    .dataframe thead th {\n",
              "        text-align: right;\n",
              "    }\n",
              "</style>\n",
              "<table border=\"1\" class=\"dataframe\">\n",
              "  <thead>\n",
              "    <tr style=\"text-align: right;\">\n",
              "      <th></th>\n",
              "      <th>index</th>\n",
              "      <th>Performance Record</th>\n",
              "      <th>Maturity Group</th>\n",
              "      <th>State</th>\n",
              "      <th>Year</th>\n",
              "      <th>Cluster</th>\n",
              "    </tr>\n",
              "  </thead>\n",
              "  <tbody>\n",
              "    <tr>\n",
              "      <th>0</th>\n",
              "      <td>0</td>\n",
              "      <td>0</td>\n",
              "      <td>3</td>\n",
              "      <td>\"IA\"</td>\n",
              "      <td>2010</td>\n",
              "      <td>18</td>\n",
              "    </tr>\n",
              "    <tr>\n",
              "      <th>1</th>\n",
              "      <td>733927</td>\n",
              "      <td>0</td>\n",
              "      <td>3</td>\n",
              "      <td>\"IA\"</td>\n",
              "      <td>2010</td>\n",
              "      <td>18</td>\n",
              "    </tr>\n",
              "    <tr>\n",
              "      <th>2</th>\n",
              "      <td>1591898</td>\n",
              "      <td>0</td>\n",
              "      <td>3</td>\n",
              "      <td>\"IA\"</td>\n",
              "      <td>2010</td>\n",
              "      <td>18</td>\n",
              "    </tr>\n",
              "    <tr>\n",
              "      <th>3</th>\n",
              "      <td>2088074</td>\n",
              "      <td>0</td>\n",
              "      <td>3</td>\n",
              "      <td>\"IA\"</td>\n",
              "      <td>2010</td>\n",
              "      <td>18</td>\n",
              "    </tr>\n",
              "    <tr>\n",
              "      <th>4</th>\n",
              "      <td>103370</td>\n",
              "      <td>0</td>\n",
              "      <td>3</td>\n",
              "      <td>\"IA\"</td>\n",
              "      <td>2010</td>\n",
              "      <td>18</td>\n",
              "    </tr>\n",
              "    <tr>\n",
              "      <th>...</th>\n",
              "      <td>...</td>\n",
              "      <td>...</td>\n",
              "      <td>...</td>\n",
              "      <td>...</td>\n",
              "      <td>...</td>\n",
              "      <td>...</td>\n",
              "    </tr>\n",
              "    <tr>\n",
              "      <th>2212113</th>\n",
              "      <td>1426505</td>\n",
              "      <td>10336</td>\n",
              "      <td>0</td>\n",
              "      <td>\"ND\"</td>\n",
              "      <td>2013</td>\n",
              "      <td>19</td>\n",
              "    </tr>\n",
              "    <tr>\n",
              "      <th>2212114</th>\n",
              "      <td>1416168</td>\n",
              "      <td>10336</td>\n",
              "      <td>0</td>\n",
              "      <td>\"ND\"</td>\n",
              "      <td>2013</td>\n",
              "      <td>19</td>\n",
              "    </tr>\n",
              "    <tr>\n",
              "      <th>2212115</th>\n",
              "      <td>1405831</td>\n",
              "      <td>10336</td>\n",
              "      <td>0</td>\n",
              "      <td>\"ND\"</td>\n",
              "      <td>2013</td>\n",
              "      <td>19</td>\n",
              "    </tr>\n",
              "    <tr>\n",
              "      <th>2212116</th>\n",
              "      <td>1385157</td>\n",
              "      <td>10336</td>\n",
              "      <td>0</td>\n",
              "      <td>\"ND\"</td>\n",
              "      <td>2013</td>\n",
              "      <td>19</td>\n",
              "    </tr>\n",
              "    <tr>\n",
              "      <th>2212117</th>\n",
              "      <td>2212117</td>\n",
              "      <td>10336</td>\n",
              "      <td>0</td>\n",
              "      <td>\"ND\"</td>\n",
              "      <td>2013</td>\n",
              "      <td>19</td>\n",
              "    </tr>\n",
              "  </tbody>\n",
              "</table>\n",
              "<p>2212118 rows × 6 columns</p>\n",
              "</div>"
            ],
            "text/plain": [
              "           index  Performance Record  Maturity Group State  Year  Cluster\n",
              "0              0                   0               3  \"IA\"  2010       18\n",
              "1         733927                   0               3  \"IA\"  2010       18\n",
              "2        1591898                   0               3  \"IA\"  2010       18\n",
              "3        2088074                   0               3  \"IA\"  2010       18\n",
              "4         103370                   0               3  \"IA\"  2010       18\n",
              "...          ...                 ...             ...   ...   ...      ...\n",
              "2212113  1426505               10336               0  \"ND\"  2013       19\n",
              "2212114  1416168               10336               0  \"ND\"  2013       19\n",
              "2212115  1405831               10336               0  \"ND\"  2013       19\n",
              "2212116  1385157               10336               0  \"ND\"  2013       19\n",
              "2212117  2212117               10336               0  \"ND\"  2013       19\n",
              "\n",
              "[2212118 rows x 6 columns]"
            ]
          },
          "metadata": {},
          "execution_count": 66
        }
      ]
    },
    {
      "cell_type": "code",
      "metadata": {
        "colab": {
          "base_uri": "https://localhost:8080/",
          "height": 419
        },
        "id": "hOGRmMNdMI39",
        "outputId": "6c0e690d-7328-4afc-a734-a51099b6faa7"
      },
      "source": [
        "daily_df"
      ],
      "execution_count": 67,
      "outputs": [
        {
          "output_type": "execute_result",
          "data": {
            "text/html": [
              "<div>\n",
              "<style scoped>\n",
              "    .dataframe tbody tr th:only-of-type {\n",
              "        vertical-align: middle;\n",
              "    }\n",
              "\n",
              "    .dataframe tbody tr th {\n",
              "        vertical-align: top;\n",
              "    }\n",
              "\n",
              "    .dataframe thead th {\n",
              "        text-align: right;\n",
              "    }\n",
              "</style>\n",
              "<table border=\"1\" class=\"dataframe\">\n",
              "  <thead>\n",
              "    <tr style=\"text-align: right;\">\n",
              "      <th></th>\n",
              "      <th>Performance Record</th>\n",
              "      <th>ADNI</th>\n",
              "      <th>AP</th>\n",
              "      <th>ARH</th>\n",
              "      <th>MDNI</th>\n",
              "      <th>MaxSur</th>\n",
              "      <th>MinSur</th>\n",
              "      <th>AvgSur</th>\n",
              "      <th>date</th>\n",
              "    </tr>\n",
              "  </thead>\n",
              "  <tbody>\n",
              "    <tr>\n",
              "      <th>0</th>\n",
              "      <td>0</td>\n",
              "      <td>335.75</td>\n",
              "      <td>0.00</td>\n",
              "      <td>75.67</td>\n",
              "      <td>932.0</td>\n",
              "      <td>80.8</td>\n",
              "      <td>59.2</td>\n",
              "      <td>67.330</td>\n",
              "      <td>04-01</td>\n",
              "    </tr>\n",
              "    <tr>\n",
              "      <th>1</th>\n",
              "      <td>0</td>\n",
              "      <td>20.75</td>\n",
              "      <td>0.00</td>\n",
              "      <td>66.67</td>\n",
              "      <td>257.0</td>\n",
              "      <td>74.1</td>\n",
              "      <td>62.2</td>\n",
              "      <td>66.020</td>\n",
              "      <td>04-02</td>\n",
              "    </tr>\n",
              "    <tr>\n",
              "      <th>2</th>\n",
              "      <td>0</td>\n",
              "      <td>300.04</td>\n",
              "      <td>0.02</td>\n",
              "      <td>77.67</td>\n",
              "      <td>978.0</td>\n",
              "      <td>60.7</td>\n",
              "      <td>41.5</td>\n",
              "      <td>52.010</td>\n",
              "      <td>04-03</td>\n",
              "    </tr>\n",
              "    <tr>\n",
              "      <th>3</th>\n",
              "      <td>0</td>\n",
              "      <td>77.25</td>\n",
              "      <td>0.00</td>\n",
              "      <td>76.04</td>\n",
              "      <td>380.0</td>\n",
              "      <td>67.6</td>\n",
              "      <td>45.5</td>\n",
              "      <td>54.000</td>\n",
              "      <td>04-04</td>\n",
              "    </tr>\n",
              "    <tr>\n",
              "      <th>4</th>\n",
              "      <td>0</td>\n",
              "      <td>211.50</td>\n",
              "      <td>0.02</td>\n",
              "      <td>84.17</td>\n",
              "      <td>951.0</td>\n",
              "      <td>66.1</td>\n",
              "      <td>43.5</td>\n",
              "      <td>54.430</td>\n",
              "      <td>04-05</td>\n",
              "    </tr>\n",
              "    <tr>\n",
              "      <th>...</th>\n",
              "      <td>...</td>\n",
              "      <td>...</td>\n",
              "      <td>...</td>\n",
              "      <td>...</td>\n",
              "      <td>...</td>\n",
              "      <td>...</td>\n",
              "      <td>...</td>\n",
              "      <td>...</td>\n",
              "      <td>...</td>\n",
              "    </tr>\n",
              "    <tr>\n",
              "      <th>2212113</th>\n",
              "      <td>10336</td>\n",
              "      <td>35.67</td>\n",
              "      <td>0.00</td>\n",
              "      <td>75.46</td>\n",
              "      <td>403.0</td>\n",
              "      <td>43.2</td>\n",
              "      <td>35.1</td>\n",
              "      <td>38.950</td>\n",
              "      <td>10-27</td>\n",
              "    </tr>\n",
              "    <tr>\n",
              "      <th>2212114</th>\n",
              "      <td>10336</td>\n",
              "      <td>182.67</td>\n",
              "      <td>0.00</td>\n",
              "      <td>73.58</td>\n",
              "      <td>653.0</td>\n",
              "      <td>37.4</td>\n",
              "      <td>28.8</td>\n",
              "      <td>33.380</td>\n",
              "      <td>10-28</td>\n",
              "    </tr>\n",
              "    <tr>\n",
              "      <th>2212115</th>\n",
              "      <td>10336</td>\n",
              "      <td>33.04</td>\n",
              "      <td>0.00</td>\n",
              "      <td>65.46</td>\n",
              "      <td>344.0</td>\n",
              "      <td>37.2</td>\n",
              "      <td>28.0</td>\n",
              "      <td>31.030</td>\n",
              "      <td>10-29</td>\n",
              "    </tr>\n",
              "    <tr>\n",
              "      <th>2212116</th>\n",
              "      <td>10336</td>\n",
              "      <td>0.00</td>\n",
              "      <td>0.00</td>\n",
              "      <td>83.83</td>\n",
              "      <td>0.0</td>\n",
              "      <td>37.6</td>\n",
              "      <td>33.0</td>\n",
              "      <td>34.165</td>\n",
              "      <td>10-30</td>\n",
              "    </tr>\n",
              "    <tr>\n",
              "      <th>2212117</th>\n",
              "      <td>10336</td>\n",
              "      <td>0.17</td>\n",
              "      <td>0.00</td>\n",
              "      <td>86.21</td>\n",
              "      <td>4.0</td>\n",
              "      <td>40.6</td>\n",
              "      <td>35.0</td>\n",
              "      <td>37.300</td>\n",
              "      <td>10-31</td>\n",
              "    </tr>\n",
              "  </tbody>\n",
              "</table>\n",
              "<p>2212118 rows × 9 columns</p>\n",
              "</div>"
            ],
            "text/plain": [
              "         Performance Record    ADNI    AP    ARH  ...  MaxSur  MinSur  AvgSur   date\n",
              "0                         0  335.75  0.00  75.67  ...    80.8    59.2  67.330  04-01\n",
              "1                         0   20.75  0.00  66.67  ...    74.1    62.2  66.020  04-02\n",
              "2                         0  300.04  0.02  77.67  ...    60.7    41.5  52.010  04-03\n",
              "3                         0   77.25  0.00  76.04  ...    67.6    45.5  54.000  04-04\n",
              "4                         0  211.50  0.02  84.17  ...    66.1    43.5  54.430  04-05\n",
              "...                     ...     ...   ...    ...  ...     ...     ...     ...    ...\n",
              "2212113               10336   35.67  0.00  75.46  ...    43.2    35.1  38.950  10-27\n",
              "2212114               10336  182.67  0.00  73.58  ...    37.4    28.8  33.380  10-28\n",
              "2212115               10336   33.04  0.00  65.46  ...    37.2    28.0  31.030  10-29\n",
              "2212116               10336    0.00  0.00  83.83  ...    37.6    33.0  34.165  10-30\n",
              "2212117               10336    0.17  0.00  86.21  ...    40.6    35.0  37.300  10-31\n",
              "\n",
              "[2212118 rows x 9 columns]"
            ]
          },
          "metadata": {},
          "execution_count": 67
        }
      ]
    },
    {
      "cell_type": "code",
      "metadata": {
        "id": "K0EafmSrMLY9"
      },
      "source": [
        "daily_df['Maturity Group'] = expanded_df['Maturity Group']\n",
        "daily_df['State'] = expanded_df['State']\n",
        "daily_df['Year'] = expanded_df['Year']\n",
        "daily_df['Cluster'] = expanded_df['Cluster']\n",
        "final_df = daily_df"
      ],
      "execution_count": 69,
      "outputs": []
    },
    {
      "cell_type": "code",
      "metadata": {
        "colab": {
          "base_uri": "https://localhost:8080/",
          "height": 419
        },
        "id": "j793Hf9tMfIV",
        "outputId": "70777656-0994-4f39-d3e2-6bd4c9afae3c"
      },
      "source": [
        "final_df"
      ],
      "execution_count": 70,
      "outputs": [
        {
          "output_type": "execute_result",
          "data": {
            "text/html": [
              "<div>\n",
              "<style scoped>\n",
              "    .dataframe tbody tr th:only-of-type {\n",
              "        vertical-align: middle;\n",
              "    }\n",
              "\n",
              "    .dataframe tbody tr th {\n",
              "        vertical-align: top;\n",
              "    }\n",
              "\n",
              "    .dataframe thead th {\n",
              "        text-align: right;\n",
              "    }\n",
              "</style>\n",
              "<table border=\"1\" class=\"dataframe\">\n",
              "  <thead>\n",
              "    <tr style=\"text-align: right;\">\n",
              "      <th></th>\n",
              "      <th>Performance Record</th>\n",
              "      <th>ADNI</th>\n",
              "      <th>AP</th>\n",
              "      <th>ARH</th>\n",
              "      <th>MDNI</th>\n",
              "      <th>MaxSur</th>\n",
              "      <th>MinSur</th>\n",
              "      <th>AvgSur</th>\n",
              "      <th>date</th>\n",
              "      <th>Maturity Group</th>\n",
              "      <th>State</th>\n",
              "      <th>Year</th>\n",
              "      <th>Cluster</th>\n",
              "    </tr>\n",
              "  </thead>\n",
              "  <tbody>\n",
              "    <tr>\n",
              "      <th>0</th>\n",
              "      <td>0</td>\n",
              "      <td>335.75</td>\n",
              "      <td>0.00</td>\n",
              "      <td>75.67</td>\n",
              "      <td>932.0</td>\n",
              "      <td>80.8</td>\n",
              "      <td>59.2</td>\n",
              "      <td>67.330</td>\n",
              "      <td>04-01</td>\n",
              "      <td>3</td>\n",
              "      <td>\"IA\"</td>\n",
              "      <td>2010</td>\n",
              "      <td>18</td>\n",
              "    </tr>\n",
              "    <tr>\n",
              "      <th>1</th>\n",
              "      <td>0</td>\n",
              "      <td>20.75</td>\n",
              "      <td>0.00</td>\n",
              "      <td>66.67</td>\n",
              "      <td>257.0</td>\n",
              "      <td>74.1</td>\n",
              "      <td>62.2</td>\n",
              "      <td>66.020</td>\n",
              "      <td>04-02</td>\n",
              "      <td>3</td>\n",
              "      <td>\"IA\"</td>\n",
              "      <td>2010</td>\n",
              "      <td>18</td>\n",
              "    </tr>\n",
              "    <tr>\n",
              "      <th>2</th>\n",
              "      <td>0</td>\n",
              "      <td>300.04</td>\n",
              "      <td>0.02</td>\n",
              "      <td>77.67</td>\n",
              "      <td>978.0</td>\n",
              "      <td>60.7</td>\n",
              "      <td>41.5</td>\n",
              "      <td>52.010</td>\n",
              "      <td>04-03</td>\n",
              "      <td>3</td>\n",
              "      <td>\"IA\"</td>\n",
              "      <td>2010</td>\n",
              "      <td>18</td>\n",
              "    </tr>\n",
              "    <tr>\n",
              "      <th>3</th>\n",
              "      <td>0</td>\n",
              "      <td>77.25</td>\n",
              "      <td>0.00</td>\n",
              "      <td>76.04</td>\n",
              "      <td>380.0</td>\n",
              "      <td>67.6</td>\n",
              "      <td>45.5</td>\n",
              "      <td>54.000</td>\n",
              "      <td>04-04</td>\n",
              "      <td>3</td>\n",
              "      <td>\"IA\"</td>\n",
              "      <td>2010</td>\n",
              "      <td>18</td>\n",
              "    </tr>\n",
              "    <tr>\n",
              "      <th>4</th>\n",
              "      <td>0</td>\n",
              "      <td>211.50</td>\n",
              "      <td>0.02</td>\n",
              "      <td>84.17</td>\n",
              "      <td>951.0</td>\n",
              "      <td>66.1</td>\n",
              "      <td>43.5</td>\n",
              "      <td>54.430</td>\n",
              "      <td>04-05</td>\n",
              "      <td>3</td>\n",
              "      <td>\"IA\"</td>\n",
              "      <td>2010</td>\n",
              "      <td>18</td>\n",
              "    </tr>\n",
              "    <tr>\n",
              "      <th>...</th>\n",
              "      <td>...</td>\n",
              "      <td>...</td>\n",
              "      <td>...</td>\n",
              "      <td>...</td>\n",
              "      <td>...</td>\n",
              "      <td>...</td>\n",
              "      <td>...</td>\n",
              "      <td>...</td>\n",
              "      <td>...</td>\n",
              "      <td>...</td>\n",
              "      <td>...</td>\n",
              "      <td>...</td>\n",
              "      <td>...</td>\n",
              "    </tr>\n",
              "    <tr>\n",
              "      <th>2212113</th>\n",
              "      <td>10336</td>\n",
              "      <td>35.67</td>\n",
              "      <td>0.00</td>\n",
              "      <td>75.46</td>\n",
              "      <td>403.0</td>\n",
              "      <td>43.2</td>\n",
              "      <td>35.1</td>\n",
              "      <td>38.950</td>\n",
              "      <td>10-27</td>\n",
              "      <td>0</td>\n",
              "      <td>\"ND\"</td>\n",
              "      <td>2013</td>\n",
              "      <td>19</td>\n",
              "    </tr>\n",
              "    <tr>\n",
              "      <th>2212114</th>\n",
              "      <td>10336</td>\n",
              "      <td>182.67</td>\n",
              "      <td>0.00</td>\n",
              "      <td>73.58</td>\n",
              "      <td>653.0</td>\n",
              "      <td>37.4</td>\n",
              "      <td>28.8</td>\n",
              "      <td>33.380</td>\n",
              "      <td>10-28</td>\n",
              "      <td>0</td>\n",
              "      <td>\"ND\"</td>\n",
              "      <td>2013</td>\n",
              "      <td>19</td>\n",
              "    </tr>\n",
              "    <tr>\n",
              "      <th>2212115</th>\n",
              "      <td>10336</td>\n",
              "      <td>33.04</td>\n",
              "      <td>0.00</td>\n",
              "      <td>65.46</td>\n",
              "      <td>344.0</td>\n",
              "      <td>37.2</td>\n",
              "      <td>28.0</td>\n",
              "      <td>31.030</td>\n",
              "      <td>10-29</td>\n",
              "      <td>0</td>\n",
              "      <td>\"ND\"</td>\n",
              "      <td>2013</td>\n",
              "      <td>19</td>\n",
              "    </tr>\n",
              "    <tr>\n",
              "      <th>2212116</th>\n",
              "      <td>10336</td>\n",
              "      <td>0.00</td>\n",
              "      <td>0.00</td>\n",
              "      <td>83.83</td>\n",
              "      <td>0.0</td>\n",
              "      <td>37.6</td>\n",
              "      <td>33.0</td>\n",
              "      <td>34.165</td>\n",
              "      <td>10-30</td>\n",
              "      <td>0</td>\n",
              "      <td>\"ND\"</td>\n",
              "      <td>2013</td>\n",
              "      <td>19</td>\n",
              "    </tr>\n",
              "    <tr>\n",
              "      <th>2212117</th>\n",
              "      <td>10336</td>\n",
              "      <td>0.17</td>\n",
              "      <td>0.00</td>\n",
              "      <td>86.21</td>\n",
              "      <td>4.0</td>\n",
              "      <td>40.6</td>\n",
              "      <td>35.0</td>\n",
              "      <td>37.300</td>\n",
              "      <td>10-31</td>\n",
              "      <td>0</td>\n",
              "      <td>\"ND\"</td>\n",
              "      <td>2013</td>\n",
              "      <td>19</td>\n",
              "    </tr>\n",
              "  </tbody>\n",
              "</table>\n",
              "<p>2212118 rows × 13 columns</p>\n",
              "</div>"
            ],
            "text/plain": [
              "         Performance Record    ADNI    AP  ...  State  Year  Cluster\n",
              "0                         0  335.75  0.00  ...   \"IA\"  2010       18\n",
              "1                         0   20.75  0.00  ...   \"IA\"  2010       18\n",
              "2                         0  300.04  0.02  ...   \"IA\"  2010       18\n",
              "3                         0   77.25  0.00  ...   \"IA\"  2010       18\n",
              "4                         0  211.50  0.02  ...   \"IA\"  2010       18\n",
              "...                     ...     ...   ...  ...    ...   ...      ...\n",
              "2212113               10336   35.67  0.00  ...   \"ND\"  2013       19\n",
              "2212114               10336  182.67  0.00  ...   \"ND\"  2013       19\n",
              "2212115               10336   33.04  0.00  ...   \"ND\"  2013       19\n",
              "2212116               10336    0.00  0.00  ...   \"ND\"  2013       19\n",
              "2212117               10336    0.17  0.00  ...   \"ND\"  2013       19\n",
              "\n",
              "[2212118 rows x 13 columns]"
            ]
          },
          "metadata": {},
          "execution_count": 70
        }
      ]
    },
    {
      "cell_type": "code",
      "metadata": {
        "id": "qpEwcgMbMViA"
      },
      "source": [
        "final_df.to_csv('test_out.csv')"
      ],
      "execution_count": 71,
      "outputs": []
    }
  ]
}