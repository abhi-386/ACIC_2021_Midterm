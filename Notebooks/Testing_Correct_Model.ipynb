{
 "cells": [
  {
   "cell_type": "code",
   "execution_count": 90,
   "metadata": {},
   "outputs": [],
   "source": [
    "from math import sqrt\n",
    "from numpy import concatenate\n",
    "from sklearn.metrics import mean_squared_error\n",
    "from tensorflow.keras.models import Sequential\n",
    "from tensorflow.keras.layers import Dense\n",
    "from tensorflow.keras.layers import Dropout\n",
    "from tensorflow.keras.layers import LSTM\n",
    "#from pandas import read_csv\n",
    "#from pandas import DataFrame\n",
    "from pandas import concat\n",
    "from sklearn.preprocessing import MinMaxScaler\n",
    "from sklearn.preprocessing import LabelEncoder\n",
    "from matplotlib import pyplot\n",
    "import datetime\n",
    "import pandas as pd\n",
    "import numpy as np\n",
    "import matplotlib.pyplot as plt\n",
    "import scipy\n",
    "from scipy import stats\n",
    "from sklearn.metrics import mean_absolute_error as mae\n",
    "from sklearn.utils import shuffle"
   ]
  },
  {
   "cell_type": "code",
   "execution_count": 91,
   "metadata": {},
   "outputs": [],
   "source": [
    "big_csv = pd.read_csv('out.csv', nrows = 2000000)"
   ]
  },
  {
   "cell_type": "code",
   "execution_count": 92,
   "metadata": {},
   "outputs": [],
   "source": [
    "del big_csv['Unnamed: 0']"
   ]
  },
  {
   "cell_type": "code",
   "execution_count": 93,
   "metadata": {},
   "outputs": [],
   "source": [
    "big_csv['State'] = big_csv['State'].str.replace('\"', '')\n",
    "big_csv['date'] = big_csv.groupby('Performance Record').cumcount() + 1"
   ]
  },
  {
   "cell_type": "code",
   "execution_count": 94,
   "metadata": {},
   "outputs": [],
   "source": [
    "del big_csv['AvgSur']\n",
    "del big_csv['AP']\n",
    "del big_csv['MDNI']\n",
    "# del big_csv['Cluster']\n",
    "del big_csv['ADNI']\n",
    "# del big_csv['State']"
   ]
  },
  {
   "cell_type": "code",
   "execution_count": 95,
   "metadata": {},
   "outputs": [],
   "source": [
    "import random\n",
    "\n",
    "groups = [big_csv for _, big_csv in big_csv.groupby('Performance Record')]\n",
    "random.shuffle(groups)\n",
    "\n",
    "big_csv = pd.concat(groups).reset_index(drop=True)\n",
    "\n",
    "#big_csv = shuffle(big_csv)"
   ]
  },
  {
   "cell_type": "code",
   "execution_count": 96,
   "metadata": {},
   "outputs": [],
   "source": [
    "big_csv = big_csv.set_index('Performance Record')"
   ]
  },
  {
   "cell_type": "code",
   "execution_count": 101,
   "metadata": {},
   "outputs": [],
   "source": [
    "test = pd.read_csv('Output/prepared_test_data.csv')"
   ]
  },
  {
   "cell_type": "code",
   "execution_count": 103,
   "metadata": {},
   "outputs": [],
   "source": [
    "del test['Unnamed: 0']"
   ]
  },
  {
   "cell_type": "code",
   "execution_count": 105,
   "metadata": {},
   "outputs": [],
   "source": [
    "test['State'] = test['State'].str.replace('\"', '')\n",
    "test['date'] = test.groupby('Performance Record').cumcount() + 1"
   ]
  },
  {
   "cell_type": "code",
   "execution_count": 107,
   "metadata": {},
   "outputs": [],
   "source": [
    "# prepare data for lstm\n",
    "from math import sqrt\n",
    "from numpy import concatenate\n",
    "from sklearn.metrics import mean_squared_error\n",
    "from tensorflow.keras.models import Sequential\n",
    "from tensorflow.keras.layers import Dense\n",
    "from tensorflow.keras.layers import LSTM\n",
    "#from pandas import read_csv\n",
    "#from pandas import DataFrame\n",
    "from pandas import concat\n",
    "from sklearn.preprocessing import MinMaxScaler\n",
    "from matplotlib import pyplot\n",
    "import datetime\n",
    "import pandas as pd\n",
    "\n",
    "\n",
    "# convert series to supervised learning\n",
    "def series_to_supervised(data, n_in=1, n_out=1, dropnan=True):\n",
    "\tn_vars = 1 if type(data) is list else data.shape[1]\n",
    "\tdf = pd.DataFrame(data)\n",
    "\tcols, names = list(), list()\n",
    "\t# input sequence (t-n, ... t-1)\n",
    "\tfor i in range(n_in, 0, -1):\n",
    "\t\tcols.append(df.shift(i))\n",
    "\t\tnames += [('var%d(t-%d)' % (j+1, i)) for j in range(n_vars)]\n",
    "\t# forecast sequence (t, t+1, ... t+n)\n",
    "\tfor i in range(0, n_out):\n",
    "\t\tcols.append(df.shift(-i))\n",
    "\t\tif i == 0:\n",
    "\t\t\tnames += [('var%d(t)' % (j+1)) for j in range(n_vars)]\n",
    "\t\telse:\n",
    "\t\t\tnames += [('var%d(t+%d)' % (j+1, i)) for j in range(n_vars)]\n",
    "\t# put it all together\n",
    "\tagg = concat(cols, axis=1)\n",
    "\tagg.columns = names\n",
    "\t# drop rows with NaN values\n",
    "\tif dropnan:\n",
    "\t\tagg.dropna(inplace=True)\n",
    "\treturn agg"
   ]
  },
  {
   "cell_type": "code",
   "execution_count": 111,
   "metadata": {},
   "outputs": [
    {
     "name": "stdout",
     "output_type": "stream",
     "text": [
      "   var1(t-1)  var2(t-1)  var3(t-1)  var4(t-1)  var5(t-1)  var6(t-1)  \\\n",
      "1        0.0   0.725946   0.000000   0.728672   0.908382   0.619342   \n",
      "2        0.0   0.044865   0.000000   0.628304   0.250487   0.550411   \n",
      "3        0.0   0.648735   0.055556   0.750976   0.953216   0.412551   \n",
      "4        0.0   0.167027   0.000000   0.732798   0.370370   0.483539   \n",
      "5        0.0   0.457297   0.055556   0.823464   0.926901   0.468107   \n",
      "\n",
      "   var7(t-1)  var8(t-1)  var9(t-1)  var10(t-1)  var11(t-1)  var12(t-1)  \n",
      "1   0.684100   0.627933   0.000000    0.444444    0.148148    0.583328  \n",
      "2   0.715481   0.613154   0.004695    0.444444    0.148148    0.583328  \n",
      "3   0.498954   0.455099   0.009390    0.444444    0.148148    0.583328  \n",
      "4   0.540795   0.477550   0.014085    0.444444    0.148148    0.583328  \n",
      "5   0.519874   0.482401   0.018779    0.444444    0.148148    0.583328  \n"
     ]
    }
   ],
   "source": [
    "#dataset = read_csv('LSTM_Model/avg_performance_record.csv', header=0, index_col=0)\n",
    "dataset = big_csv\n",
    "input_df = dataset[dataset.columns[:-1]]\n",
    "output_df = pd.DataFrame(dataset['Yield'])\n",
    "#test_df = pd.DataFrame(test)\n",
    "\n",
    "# Define values that are input and output\n",
    "values_input = input_df.values\n",
    "values_output = output_df.values\n",
    "#test_input = test.values\n",
    "\n",
    "# Encoding the State Column\n",
    "encoder = LabelEncoder()\n",
    "values_input[:,5] = encoder.fit_transform(values_input[:,5])\n",
    "#test_input[:,10] = encoder.fit_transform(test_input[:,10])\n",
    "\n",
    "# Convert values to floats\n",
    "values_input = values_input.astype('float32')\n",
    "values_output = values_output.astype('float32')\n",
    "#test_input = test_input.astype('float32')\n",
    "\n",
    "# normalize features\n",
    "scaler = MinMaxScaler(feature_range=(0, 1))\n",
    "scaled_input = scaler.fit_transform(values_input)\n",
    "scaled_output = scaler.fit_transform(values_output)\n",
    "#scaled_test = scaler.fit_transform(test_input)\n",
    "\n",
    "# frame as supervised learning\n",
    "reframed_input = series_to_supervised(scaled_input, 1, 1)\n",
    "reframed_output = series_to_supervised(scaled_output, 1, 1)\n",
    "#reframed_test = series_to_supervised(scaled_test, 1, 1)\n",
    "\n",
    "# drop columns we don't want to predict (keeping Yield in this case)\n",
    "reframed_input.drop(reframed_input.columns[[8, 9, 10, 11, 12, 13, 14, 15]], axis=1, inplace=True)\n",
    "#reframed_test.drop(reframed_test.columns[[12, 13, 14, 15, 16, 17, 18, 19, 20, 21, 22, 23]], axis=1, inplace=True)\n",
    "#reframed_input.drop(reframed_input.columns[[12, 13, 14, 15, 16, 17, 18, 19, 20, 21, 22, 23]], axis=1, inplace=True)\n",
    "print(reframed_input.head())"
   ]
  },
  {
   "cell_type": "code",
   "execution_count": 113,
   "metadata": {},
   "outputs": [
    {
     "name": "stdout",
     "output_type": "stream",
     "text": [
      "(1600000, 1, 8) (1600000, 2) (399999, 1, 8) (399999, 2) (2212117, 1, 12)\n"
     ]
    }
   ],
   "source": [
    "## Define Input and Output values\n",
    "values_input = reframed_input.values\n",
    "values_output = reframed_output.values\n",
    "#test_input = reframed_test.values\n",
    "\n",
    "# Set train and validation split\n",
    "n_train_hours = int(len(dataset)*0.80)\n",
    "\n",
    "# Apply train and validation split for input and output\n",
    "train_input = values_input[:n_train_hours, :]\n",
    "train_output = values_output[:n_train_hours, :]\n",
    "validation_input = values_input[n_train_hours:int(len(values_input)), :]\n",
    "validation_output = values_output[n_train_hours:int(len(values_input)), :]\n",
    "\n",
    "# assign split into input and outputs that make a little more sense\n",
    "train_X, train_y = train_input, train_output\n",
    "validation_X, validation_y = validation_input, validation_output\n",
    "#test_X = test_input\n",
    "\n",
    "# reshape input to be 3D [samples, timesteps, features]\n",
    "train_X = train_X.reshape((train_X.shape[0], 1, train_X.shape[1]))\n",
    "validation_X = validation_X.reshape((validation_X.shape[0], 1, validation_X.shape[1]))\n",
    "#test_X = test_X.reshape((test_X.shape[0], 1, test_X.shape[1]))\n",
    "print(train_X.shape, train_y.shape, validation_X.shape, validation_y.shape, test_X.shape)"
   ]
  },
  {
   "cell_type": "code",
   "execution_count": 114,
   "metadata": {},
   "outputs": [
    {
     "name": "stdout",
     "output_type": "stream",
     "text": [
      "Epoch 1/35\n",
      "5334/5334 - 21s - loss: 0.1229 - val_loss: 0.1179\n",
      "Epoch 2/35\n",
      "5334/5334 - 20s - loss: 0.1204 - val_loss: 0.1174\n",
      "Epoch 3/35\n",
      "5334/5334 - 22s - loss: 0.1195 - val_loss: 0.1163\n",
      "Epoch 4/35\n",
      "5334/5334 - 20s - loss: 0.1173 - val_loss: 0.1136\n",
      "Epoch 5/35\n",
      "5334/5334 - 20s - loss: 0.1150 - val_loss: 0.1132\n",
      "Epoch 6/35\n",
      "5334/5334 - 20s - loss: 0.1141 - val_loss: 0.1131\n",
      "Epoch 7/35\n",
      "5334/5334 - 21s - loss: 0.1137 - val_loss: 0.1125\n",
      "Epoch 8/35\n",
      "5334/5334 - 18s - loss: 0.1134 - val_loss: 0.1122\n",
      "Epoch 9/35\n",
      "5334/5334 - 19s - loss: 0.1132 - val_loss: 0.1118\n",
      "Epoch 10/35\n",
      "5334/5334 - 19s - loss: 0.1131 - val_loss: 0.1115\n",
      "Epoch 11/35\n",
      "5334/5334 - 19s - loss: 0.1129 - val_loss: 0.1113\n",
      "Epoch 12/35\n",
      "5334/5334 - 19s - loss: 0.1128 - val_loss: 0.1110\n",
      "Epoch 13/35\n",
      "5334/5334 - 21s - loss: 0.1126 - val_loss: 0.1109\n",
      "Epoch 14/35\n",
      "5334/5334 - 25s - loss: 0.1125 - val_loss: 0.1108\n",
      "Epoch 15/35\n",
      "5334/5334 - 26s - loss: 0.1124 - val_loss: 0.1107\n",
      "Epoch 16/35\n",
      "5334/5334 - 26s - loss: 0.1122 - val_loss: 0.1106\n",
      "Epoch 17/35\n",
      "5334/5334 - 21s - loss: 0.1120 - val_loss: 0.1105\n",
      "Epoch 18/35\n",
      "5334/5334 - 21s - loss: 0.1117 - val_loss: 0.1105\n",
      "Epoch 19/35\n",
      "5334/5334 - 32s - loss: 0.1114 - val_loss: 0.1106\n",
      "Epoch 20/35\n",
      "5334/5334 - 23s - loss: 0.1112 - val_loss: 0.1106\n",
      "Epoch 21/35\n",
      "5334/5334 - 25s - loss: 0.1109 - val_loss: 0.1106\n",
      "Epoch 22/35\n",
      "5334/5334 - 28s - loss: 0.1108 - val_loss: 0.1106\n",
      "Epoch 23/35\n",
      "5334/5334 - 30s - loss: 0.1106 - val_loss: 0.1105\n",
      "Epoch 24/35\n",
      "5334/5334 - 29s - loss: 0.1105 - val_loss: 0.1103\n",
      "Epoch 25/35\n",
      "5334/5334 - 24s - loss: 0.1103 - val_loss: 0.1101\n",
      "Epoch 26/35\n",
      "5334/5334 - 23s - loss: 0.1102 - val_loss: 0.1100\n",
      "Epoch 27/35\n",
      "5334/5334 - 21s - loss: 0.1101 - val_loss: 0.1098\n",
      "Epoch 28/35\n",
      "5334/5334 - 20s - loss: 0.1099 - val_loss: 0.1095\n",
      "Epoch 29/35\n",
      "5334/5334 - 22s - loss: 0.1097 - val_loss: 0.1093\n",
      "Epoch 30/35\n",
      "5334/5334 - 23s - loss: 0.1095 - val_loss: 0.1091\n",
      "Epoch 31/35\n",
      "5334/5334 - 23s - loss: 0.1093 - val_loss: 0.1090\n",
      "Epoch 32/35\n",
      "5334/5334 - 23s - loss: 0.1090 - val_loss: 0.1088\n",
      "Epoch 33/35\n",
      "5334/5334 - 26s - loss: 0.1087 - val_loss: 0.1085\n",
      "Epoch 34/35\n",
      "5334/5334 - 27s - loss: 0.1084 - val_loss: 0.1084\n",
      "Epoch 35/35\n",
      "5334/5334 - 23s - loss: 0.1082 - val_loss: 0.1082\n"
     ]
    },
    {
     "data": {
      "image/png": "[encoded data removed]",
      "text/plain": [
       "<Figure size 432x288 with 1 Axes>"
      ]
     },
     "metadata": {
      "needs_background": "light"
     },
     "output_type": "display_data"
    }
   ],
   "source": [
    "# design network\n",
    "model = Sequential()\n",
    "model.add(LSTM(100, input_shape=(train_X.shape[1], train_X.shape[2])))\n",
    "model.add(Dense(1))\n",
    "model.compile(loss='mae', optimizer='adam')\n",
    "# fit network\n",
    "history = model.fit(train_X, train_y, epochs=35, batch_size=300, validation_data=(validation_X, validation_y), verbose=2, shuffle=False)\n",
    "#plot history\n",
    "pyplot.plot(history.history['loss'], label='train')\n",
    "pyplot.plot(history.history['val_loss'], label='validation')\n",
    "pyplot.legend()\n",
    "pyplot.show()"
   ]
  },
  {
   "cell_type": "code",
   "execution_count": 188,
   "metadata": {},
   "outputs": [],
   "source": [
    "def rsquared(x, y):\n",
    "    \"\"\" Return R^2 where x and y are array-like.\"\"\"\n",
    "\n",
    "    slope, intercept, r_value, p_value, std_err = scipy.stats.linregress(x, y)\n",
    "    return r_value**2"
   ]
  },
  {
   "cell_type": "code",
   "execution_count": 189,
   "metadata": {},
   "outputs": [
    {
     "name": "stdout",
     "output_type": "stream",
     "text": [
      "validation RMSE: 14.943 r-squared: 0.182493 MAE: 11.82100\n"
     ]
    }
   ],
   "source": [
    "# make a prediction\n",
    "yhat = model.predict(validation_X)\n",
    "validation_X = validation_X.reshape((validation_X.shape[0], validation_X.shape[2]))\n",
    "\n",
    "# invert scaling for forecast\n",
    "inv_yhat = concatenate((yhat, validation_X[:, :-1]), axis=1)\n",
    "inv_yhat = scaler.inverse_transform(inv_yhat)\n",
    "inv_yhat = inv_yhat[:,0]\n",
    "\n",
    "#invert scaling for actual\n",
    "#validation_y = validation_y.reshape((validation_y.shape[0], validation_y.shape[2]))\n",
    "inv_y = concatenate((validation_y, validation_X[:, 1:]), axis=1)\n",
    "inv_y = scaler.inverse_transform(inv_y)\n",
    "inv_y = inv_y[:,0]\n",
    "\n",
    "# calculate RMSE\n",
    "rmse = sqrt(mean_squared_error(inv_y, inv_yhat))\n",
    "MAE = mae(inv_y, inv_yhat)\n",
    "r2 = rsquared(inv_y, inv_yhat)\n",
    "print('validation RMSE: %.3f' % rmse, 'r-squared: %.6f' % r2, 'MAE: %.5f' % MAE)"
   ]
  },
  {
   "cell_type": "code",
   "execution_count": null,
   "metadata": {},
   "outputs": [],
   "source": []
  }
 ],
 "metadata": {
  "kernelspec": {
   "display_name": "Python 3",
   "language": "python",
   "name": "python3"
  },
  "language_info": {
   "codemirror_mode": {
    "name": "ipython",
    "version": 3
   },
   "file_extension": ".py",
   "mimetype": "text/x-python",
   "name": "python",
   "nbconvert_exporter": "python",
   "pygments_lexer": "ipython3",
   "version": "3.8.3"
  }
 },
 "nbformat": 4,
 "nbformat_minor": 4
}
