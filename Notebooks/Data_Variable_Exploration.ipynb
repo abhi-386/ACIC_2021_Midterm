{
  "nbformat": 4,
  "nbformat_minor": 0,
  "metadata": {
    "kernelspec": {
      "display_name": "Python 3",
      "language": "python",
      "name": "python3"
    },
    "language_info": {
      "codemirror_mode": {
        "name": "ipython",
        "version": 3
      },
      "file_extension": ".py",
      "mimetype": "text/x-python",
      "name": "python",
      "nbconvert_exporter": "python",
      "pygments_lexer": "ipython3",
      "version": "3.8.3"
    },
    "colab": {
      "name": "Data_Variable_Exploration.ipynb",
      "provenance": [],
      "collapsed_sections": []
    }
  },
  "cells": [
    {
      "cell_type": "code",
      "metadata": {
        "id": "5cW8U3fquQs3"
      },
      "source": [
        "import pandas as pd\n",
        "import numpy as np\n",
        "import datetime\n",
        "from itertools import cycle\n",
        "import seaborn as sns\n",
        "import matplotlib.pyplot as plt\n",
        "import matplotlib.ticker as ticker\n",
        "import matplotlib.dates as mdates"
      ],
      "execution_count": null,
      "outputs": []
    },
    {
      "cell_type": "code",
      "metadata": {
        "colab": {
          "base_uri": "https://localhost:8080/"
        },
        "id": "fqdwdn7xXP7G",
        "outputId": "30e9d611-1c97-4f61-8c43-1758aa0a8193"
      },
      "source": [
        "from google.colab import drive\n",
        "drive.mount('/content/drive')"
      ],
      "execution_count": null,
      "outputs": [
        {
          "output_type": "stream",
          "name": "stdout",
          "text": [
            "Mounted at /content/drive\n"
          ]
        }
      ]
    },
    {
      "cell_type": "code",
      "metadata": {
        "id": "Eb-EfFUYuQs5"
      },
      "source": [
        "clusterID = np.load('/content/drive/MyDrive/Colab Notebooks/clusterID_genotype.npy')\n",
        "weather = np.load('/content/drive/MyDrive/Colab Notebooks/inputs_weather_train.npy')\n",
        "traits = np.load('/content/drive/MyDrive/Colab Notebooks/inputs_others_train.npy')\n",
        "train_yield = np.load('/content/drive/MyDrive/Colab Notebooks/yield_train.npy')"
      ],
      "execution_count": null,
      "outputs": []
    },
    {
      "cell_type": "markdown",
      "metadata": {
        "id": "q2yTjlAhuQs6"
      },
      "source": [
        "## Organizing Weather Data"
      ]
    },
    {
      "cell_type": "code",
      "metadata": {
        "id": "oC4Fc-xRuQs7"
      },
      "source": [
        "perf_records, days, variables = weather.shape"
      ],
      "execution_count": null,
      "outputs": []
    },
    {
      "cell_type": "code",
      "metadata": {
        "id": "pbM8GlQ5uQs7"
      },
      "source": [
        "out_arr = np.column_stack((np.repeat(np.arange(perf_records),days),weather.reshape(perf_records*days,-1)))\n",
        "out_df = pd.DataFrame(out_arr)"
      ],
      "execution_count": null,
      "outputs": []
    },
    {
      "cell_type": "code",
      "metadata": {
        "id": "_gXcTKFLuQs7"
      },
      "source": [
        "# Building a data frame based on input weather data, with columns named for the variables\n",
        "out_df = pd.DataFrame(out_arr, columns=['Performance Record','ADNI', 'AP', 'ARH', 'MDNI', 'MaxSur', 'MinSur', 'AvgSur'])"
      ],
      "execution_count": null,
      "outputs": []
    },
    {
      "cell_type": "code",
      "metadata": {
        "id": "uNAXSPKZuQs7"
      },
      "source": [
        "out_df['Performance Record'] = pd.to_numeric(out_df['Performance Record']).astype(int)"
      ],
      "execution_count": null,
      "outputs": []
    },
    {
      "cell_type": "code",
      "metadata": {
        "id": "q8RMVda_uQs8"
      },
      "source": [
        "## Counts all of the days in Performance Record\n",
        "out_df['Day'] = out_df.groupby('Performance Record').cumcount() + 1"
      ],
      "execution_count": null,
      "outputs": []
    },
    {
      "cell_type": "code",
      "metadata": {
        "id": "Ekq62LyzuQs8"
      },
      "source": [
        "out_df['Julian_date'] = out_df.groupby('Performance Record').cumcount() + 91"
      ],
      "execution_count": null,
      "outputs": []
    },
    {
      "cell_type": "code",
      "metadata": {
        "id": "ithD1qk2uQs8"
      },
      "source": [
        "def jdtodatestd (jdate):\n",
        "    fmt = '%j'\n",
        "    datestd = datetime.datetime.strptime(jdate, fmt).date()\n",
        "    return(datestd)"
      ],
      "execution_count": null,
      "outputs": []
    },
    {
      "cell_type": "code",
      "metadata": {
        "id": "yurvLKz8uQs8"
      },
      "source": [
        "subset = out_df[out_df['Performance Record'] == 0]"
      ],
      "execution_count": null,
      "outputs": []
    },
    {
      "cell_type": "code",
      "metadata": {
        "id": "BZeTwhNYuQs9"
      },
      "source": [
        "date_list = []\n",
        "for i, row in subset.iterrows():\n",
        "    julian = int(row['Julian_date'])\n",
        "    date = datetime.datetime.strptime(f'{julian}', '%j').date()\n",
        "    clean_date = date.strftime(\"%m-%d\")\n",
        "    date_list.append(clean_date)"
      ],
      "execution_count": null,
      "outputs": []
    },
    {
      "cell_type": "code",
      "metadata": {
        "id": "mAlnp-uruQs9"
      },
      "source": [
        "date_cycle = cycle(date_list)\n",
        "out_df['date'] = [next(date_cycle) for cycle in range(len(out_df))]"
      ],
      "execution_count": null,
      "outputs": []
    },
    {
      "cell_type": "code",
      "metadata": {
        "id": "rdDZbyCEYO-2",
        "colab": {
          "base_uri": "https://localhost:8080/",
          "height": 419
        },
        "outputId": "fdbd5a49-9498-41a1-f7f9-68f8b0c01dfd"
      },
      "source": [
        "out_df"
      ],
      "execution_count": null,
      "outputs": [
        {
          "output_type": "execute_result",
          "data": {
            "text/html": [
              "<div>\n",
              "<style scoped>\n",
              "    .dataframe tbody tr th:only-of-type {\n",
              "        vertical-align: middle;\n",
              "    }\n",
              "\n",
              "    .dataframe tbody tr th {\n",
              "        vertical-align: top;\n",
              "    }\n",
              "\n",
              "    .dataframe thead th {\n",
              "        text-align: right;\n",
              "    }\n",
              "</style>\n",
              "<table border=\"1\" class=\"dataframe\">\n",
              "  <thead>\n",
              "    <tr style=\"text-align: right;\">\n",
              "      <th></th>\n",
              "      <th>Performance Record</th>\n",
              "      <th>ADNI</th>\n",
              "      <th>AP</th>\n",
              "      <th>ARH</th>\n",
              "      <th>MDNI</th>\n",
              "      <th>MaxSur</th>\n",
              "      <th>MinSur</th>\n",
              "      <th>AvgSur</th>\n",
              "      <th>Day</th>\n",
              "      <th>Julian_date</th>\n",
              "      <th>date</th>\n",
              "    </tr>\n",
              "  </thead>\n",
              "  <tbody>\n",
              "    <tr>\n",
              "      <th>0</th>\n",
              "      <td>0</td>\n",
              "      <td>169.88</td>\n",
              "      <td>0.00</td>\n",
              "      <td>50.50</td>\n",
              "      <td>814.0</td>\n",
              "      <td>57.3</td>\n",
              "      <td>32.3</td>\n",
              "      <td>43.23</td>\n",
              "      <td>1</td>\n",
              "      <td>91</td>\n",
              "      <td>04-01</td>\n",
              "    </tr>\n",
              "    <tr>\n",
              "      <th>1</th>\n",
              "      <td>0</td>\n",
              "      <td>12.54</td>\n",
              "      <td>0.01</td>\n",
              "      <td>84.75</td>\n",
              "      <td>93.0</td>\n",
              "      <td>51.3</td>\n",
              "      <td>36.6</td>\n",
              "      <td>43.85</td>\n",
              "      <td>2</td>\n",
              "      <td>92</td>\n",
              "      <td>04-02</td>\n",
              "    </tr>\n",
              "    <tr>\n",
              "      <th>2</th>\n",
              "      <td>0</td>\n",
              "      <td>321.38</td>\n",
              "      <td>0.00</td>\n",
              "      <td>65.08</td>\n",
              "      <td>986.0</td>\n",
              "      <td>56.7</td>\n",
              "      <td>28.9</td>\n",
              "      <td>42.07</td>\n",
              "      <td>3</td>\n",
              "      <td>93</td>\n",
              "      <td>04-03</td>\n",
              "    </tr>\n",
              "    <tr>\n",
              "      <th>3</th>\n",
              "      <td>0</td>\n",
              "      <td>153.67</td>\n",
              "      <td>0.00</td>\n",
              "      <td>63.50</td>\n",
              "      <td>777.0</td>\n",
              "      <td>67.7</td>\n",
              "      <td>43.9</td>\n",
              "      <td>52.45</td>\n",
              "      <td>4</td>\n",
              "      <td>94</td>\n",
              "      <td>04-04</td>\n",
              "    </tr>\n",
              "    <tr>\n",
              "      <th>4</th>\n",
              "      <td>0</td>\n",
              "      <td>6.75</td>\n",
              "      <td>0.01</td>\n",
              "      <td>71.00</td>\n",
              "      <td>118.0</td>\n",
              "      <td>63.8</td>\n",
              "      <td>38.8</td>\n",
              "      <td>47.25</td>\n",
              "      <td>5</td>\n",
              "      <td>95</td>\n",
              "      <td>04-05</td>\n",
              "    </tr>\n",
              "    <tr>\n",
              "      <th>...</th>\n",
              "      <td>...</td>\n",
              "      <td>...</td>\n",
              "      <td>...</td>\n",
              "      <td>...</td>\n",
              "      <td>...</td>\n",
              "      <td>...</td>\n",
              "      <td>...</td>\n",
              "      <td>...</td>\n",
              "      <td>...</td>\n",
              "      <td>...</td>\n",
              "      <td>...</td>\n",
              "    </tr>\n",
              "    <tr>\n",
              "      <th>19907987</th>\n",
              "      <td>93027</td>\n",
              "      <td>48.92</td>\n",
              "      <td>0.00</td>\n",
              "      <td>83.63</td>\n",
              "      <td>470.0</td>\n",
              "      <td>76.6</td>\n",
              "      <td>57.9</td>\n",
              "      <td>64.23</td>\n",
              "      <td>210</td>\n",
              "      <td>300</td>\n",
              "      <td>10-27</td>\n",
              "    </tr>\n",
              "    <tr>\n",
              "      <th>19907988</th>\n",
              "      <td>93027</td>\n",
              "      <td>120.21</td>\n",
              "      <td>0.00</td>\n",
              "      <td>89.42</td>\n",
              "      <td>618.0</td>\n",
              "      <td>75.8</td>\n",
              "      <td>62.6</td>\n",
              "      <td>67.39</td>\n",
              "      <td>211</td>\n",
              "      <td>301</td>\n",
              "      <td>10-28</td>\n",
              "    </tr>\n",
              "    <tr>\n",
              "      <th>19907989</th>\n",
              "      <td>93027</td>\n",
              "      <td>2.00</td>\n",
              "      <td>0.00</td>\n",
              "      <td>90.58</td>\n",
              "      <td>24.0</td>\n",
              "      <td>72.2</td>\n",
              "      <td>63.3</td>\n",
              "      <td>66.63</td>\n",
              "      <td>212</td>\n",
              "      <td>302</td>\n",
              "      <td>10-29</td>\n",
              "    </tr>\n",
              "    <tr>\n",
              "      <th>19907990</th>\n",
              "      <td>93027</td>\n",
              "      <td>258.83</td>\n",
              "      <td>0.00</td>\n",
              "      <td>82.88</td>\n",
              "      <td>884.0</td>\n",
              "      <td>80.8</td>\n",
              "      <td>63.3</td>\n",
              "      <td>68.97</td>\n",
              "      <td>213</td>\n",
              "      <td>303</td>\n",
              "      <td>10-30</td>\n",
              "    </tr>\n",
              "    <tr>\n",
              "      <th>19907991</th>\n",
              "      <td>93027</td>\n",
              "      <td>254.71</td>\n",
              "      <td>0.00</td>\n",
              "      <td>74.21</td>\n",
              "      <td>870.0</td>\n",
              "      <td>83.4</td>\n",
              "      <td>62.6</td>\n",
              "      <td>71.31</td>\n",
              "      <td>214</td>\n",
              "      <td>304</td>\n",
              "      <td>10-31</td>\n",
              "    </tr>\n",
              "  </tbody>\n",
              "</table>\n",
              "<p>19907992 rows × 11 columns</p>\n",
              "</div>"
            ],
            "text/plain": [
              "          Performance Record    ADNI    AP  ...  Day  Julian_date   date\n",
              "0                          0  169.88  0.00  ...    1           91  04-01\n",
              "1                          0   12.54  0.01  ...    2           92  04-02\n",
              "2                          0  321.38  0.00  ...    3           93  04-03\n",
              "3                          0  153.67  0.00  ...    4           94  04-04\n",
              "4                          0    6.75  0.01  ...    5           95  04-05\n",
              "...                      ...     ...   ...  ...  ...          ...    ...\n",
              "19907987               93027   48.92  0.00  ...  210          300  10-27\n",
              "19907988               93027  120.21  0.00  ...  211          301  10-28\n",
              "19907989               93027    2.00  0.00  ...  212          302  10-29\n",
              "19907990               93027  258.83  0.00  ...  213          303  10-30\n",
              "19907991               93027  254.71  0.00  ...  214          304  10-31\n",
              "\n",
              "[19907992 rows x 11 columns]"
            ]
          },
          "metadata": {},
          "execution_count": 15
        }
      ]
    },
    {
      "cell_type": "markdown",
      "metadata": {
        "id": "4mPOTXY8G8Dd"
      },
      "source": [
        "# Creating annual averages of weather data"
      ]
    },
    {
      "cell_type": "code",
      "metadata": {
        "colab": {
          "base_uri": "https://localhost:8080/"
        },
        "id": "EVZHiB74dAmo",
        "outputId": "142b3c0e-e7eb-4c25-b865-1d7a897f6e2b"
      },
      "source": [
        "yearly_df = pd.DataFrame(index = range(0, 93027), columns = out_df.columns.values.tolist())\n",
        "yearly_df = yearly_df.drop(columns=['Performance Record', 'Day', 'Julian_date', 'date'])\n",
        "yearly_df.reset_index().rename(columns={'index':'Performance Record'})\n",
        "input_df = out_df.drop(columns=['Day', 'Julian_date', 'date'])\n",
        "input_dict = dict(tuple(input_df.groupby('Performance Record')))\n",
        "for pf in range(0, 93028):\n",
        "  current_df = input_dict[pf]\n",
        "  for i in current_df.columns.values.tolist():\n",
        "    new_val = current_df[i].mean()\n",
        "    yearly_df.at[pf, i] = new_val\n",
        "yearly_df = yearly_df.drop(columns=['Performance Record'])\n",
        "print(yearly_df)"
      ],
      "execution_count": null,
      "outputs": [
        {
          "output_type": "stream",
          "name": "stdout",
          "text": [
            "          ADNI          AP      ARH     MDNI   MaxSur   MinSur   AvgSur\n",
            "0      219.414  0.00551402  71.4315  718.664  76.1472  56.3561  65.1359\n",
            "1      208.647  0.00705607  77.0154   709.14   79.164  59.6818  68.4279\n",
            "2      233.999  0.00439252   71.553  761.977  81.7257  56.2537  67.8292\n",
            "3      229.848  0.00640187  72.4757  749.701  75.4061  55.7093  64.4512\n",
            "4      243.311  0.00434579  61.5843  761.682  78.5864  55.8991  65.7533\n",
            "...        ...         ...      ...      ...      ...      ...      ...\n",
            "93023   241.07  0.00691589  71.2502  801.486  85.0949  63.3285  72.9051\n",
            "93024  238.003  0.00528037  67.4438  768.537  79.2593  57.9402  67.3283\n",
            "93025  198.916  0.00570093  71.2126  652.117  73.1537  53.9187  62.4799\n",
            "93026  219.869  0.00626168  70.1836  755.444  87.5953  65.6701  75.1928\n",
            "93027  215.702       0.005  65.6806  721.229  84.3416  62.3304  71.9704\n",
            "\n",
            "[93028 rows x 7 columns]\n"
          ]
        }
      ]
    },
    {
      "cell_type": "code",
      "metadata": {
        "id": "dTkNFhpXraGH"
      },
      "source": [
        "weekly_df = pd.DataFrame(index = range(0, 651196), columns = out_df.columns.values.tolist())"
      ],
      "execution_count": null,
      "outputs": []
    },
    {
      "cell_type": "markdown",
      "metadata": {
        "id": "yUZmA88zuQs-"
      },
      "source": [
        "## Other Trait Data"
      ]
    },
    {
      "cell_type": "code",
      "metadata": {
        "id": "LzchFDNtuQs-"
      },
      "source": [
        "# Building a data frame based on input data, with columns named for the variables\n",
        "trait_df = pd.DataFrame(traits, columns=['Maturity Group', 'Genotype ID', 'State', 'Year', 'Location'])"
      ],
      "execution_count": null,
      "outputs": []
    },
    {
      "cell_type": "code",
      "metadata": {
        "id": "EkIO3a35uQs-"
      },
      "source": [
        "trait_df['Year'] = pd.to_numeric(trait_df['Year'])\n",
        "trait_df['Genotype ID'] = pd.to_numeric(trait_df['Genotype ID'])\n",
        "trait_df['Year'] = trait_df['Year'].astype(int)\n",
        "trait_df['Genotype ID'] = trait_df['Genotype ID'].astype(int)"
      ],
      "execution_count": null,
      "outputs": []
    },
    {
      "cell_type": "markdown",
      "metadata": {
        "id": "DzS3lDHquQs_"
      },
      "source": [
        "## Yield Data"
      ]
    },
    {
      "cell_type": "code",
      "metadata": {
        "id": "3a5BRoHuuQs_"
      },
      "source": [
        "yield_df = pd.DataFrame(train_yield)"
      ],
      "execution_count": null,
      "outputs": []
    },
    {
      "cell_type": "code",
      "metadata": {
        "id": "Edcuq_uWuQs_"
      },
      "source": [
        "yield_df.rename(columns = {0:'Yield'}, inplace = True)"
      ],
      "execution_count": null,
      "outputs": []
    },
    {
      "cell_type": "code",
      "metadata": {
        "id": "3Zcf7zJDuQs_"
      },
      "source": [
        "## Merging the two\n",
        "\n",
        "trait_df['Yield'] = yield_df['Yield']"
      ],
      "execution_count": null,
      "outputs": []
    },
    {
      "cell_type": "code",
      "metadata": {
        "colab": {
          "base_uri": "https://localhost:8080/",
          "height": 302
        },
        "id": "7IE2tdACuQtA",
        "outputId": "a72d38d3-b339-4f04-9779-0e82b12c22da"
      },
      "source": [
        "## Comparing total yield for each state across all years\n",
        "\n",
        "sns.boxplot(data = trait_df, x = 'State', y = 'Yield', color = 'cornflowerblue')\n",
        "plt.xticks(rotation=90);"
      ],
      "execution_count": null,
      "outputs": [
        {
          "output_type": "display_data",
          "data": {
            "image/png": "[encoded data removed]",
            "text/plain": [
              "<Figure size 432x288 with 1 Axes>"
            ]
          },
          "metadata": {
            "needs_background": "light"
          }
        }
      ]
    },
    {
      "cell_type": "code",
      "metadata": {
        "colab": {
          "base_uri": "https://localhost:8080/",
          "height": 296
        },
        "id": "t8PKZrUvuQtB",
        "outputId": "c3472b88-51da-40ae-b370-662ac7330eeb"
      },
      "source": [
        "## Comparing average yield for each year\n",
        "\n",
        "sns.barplot(data = trait_df.groupby('Year').mean().reset_index(), x = 'Year', y = 'Yield', color = 'cornflowerblue')"
      ],
      "execution_count": null,
      "outputs": [
        {
          "output_type": "execute_result",
          "data": {
            "text/plain": [
              "<matplotlib.axes._subplots.AxesSubplot at 0x7f43b62ae610>"
            ]
          },
          "metadata": {},
          "execution_count": 23
        },
        {
          "output_type": "display_data",
          "data": {
            "image/png": "[encoded data removed]",
            "text/plain": [
              "<Figure size 432x288 with 1 Axes>"
            ]
          },
          "metadata": {
            "needs_background": "light"
          }
        }
      ]
    },
    {
      "cell_type": "markdown",
      "metadata": {
        "id": "_9qG7uXnXUNR"
      },
      "source": [
        "# Adding Cluster ID to trait data"
      ]
    },
    {
      "cell_type": "code",
      "metadata": {
        "colab": {
          "base_uri": "https://localhost:8080/"
        },
        "id": "tj3gCT-cWCnV",
        "outputId": "2d1aa808-cc49-4348-a85f-cc7aa51a59ea"
      },
      "source": [
        "print(len(clusterID))"
      ],
      "execution_count": null,
      "outputs": [
        {
          "output_type": "stream",
          "name": "stdout",
          "text": [
            "5839\n"
          ]
        }
      ]
    },
    {
      "cell_type": "code",
      "metadata": {
        "id": "MMvCBKUvXWzb"
      },
      "source": [
        "cluster_dict = {}\n",
        "for i in range(1, 5839):\n",
        "  array_index = i-1\n",
        "  cID = clusterID[i-1]\n",
        "  cluster_dict.update({i:cID})"
      ],
      "execution_count": null,
      "outputs": []
    },
    {
      "cell_type": "code",
      "metadata": {
        "id": "PnySWXGoYxLr"
      },
      "source": [
        "cluster_list = []\n",
        "for i in trait_df.index:\n",
        "  genotype = trait_df.iloc[i]['Genotype ID']\n",
        "  cluster = cluster_dict.get(genotype)\n",
        "  cluster_list.append(cluster)\n",
        "trait_df['Cluster'] = cluster_list"
      ],
      "execution_count": null,
      "outputs": []
    },
    {
      "cell_type": "markdown",
      "metadata": {
        "id": "Vh99ZnEtv4Mg"
      },
      "source": [
        "# Condensed trait data frame"
      ]
    },
    {
      "cell_type": "code",
      "metadata": {
        "id": "d06_hZHe9B5A"
      },
      "source": [
        "trait_df['Maturity Group'] = pd.to_numeric(trait_df['Maturity Group'])\n",
        "trait_df['Maturity Group'] = trait_df['Maturity Group'].astype(int)\n"
      ],
      "execution_count": null,
      "outputs": []
    },
    {
      "cell_type": "code",
      "metadata": {
        "id": "B5KGd3nTwUIP"
      },
      "source": [
        "del trait_df['Location']\n",
        "del trait_df['Genotype ID']"
      ],
      "execution_count": null,
      "outputs": []
    },
    {
      "cell_type": "code",
      "metadata": {
        "colab": {
          "base_uri": "https://localhost:8080/",
          "height": 419
        },
        "id": "Y84v1tvnv9Ue",
        "outputId": "5c0362c1-0e0e-4bce-975b-feba2e48a4bb"
      },
      "source": [
        "trait_df.reset_index().rename(columns={'index':'Performance Record'})"
      ],
      "execution_count": null,
      "outputs": [
        {
          "output_type": "execute_result",
          "data": {
            "text/html": [
              "<div>\n",
              "<style scoped>\n",
              "    .dataframe tbody tr th:only-of-type {\n",
              "        vertical-align: middle;\n",
              "    }\n",
              "\n",
              "    .dataframe tbody tr th {\n",
              "        vertical-align: top;\n",
              "    }\n",
              "\n",
              "    .dataframe thead th {\n",
              "        text-align: right;\n",
              "    }\n",
              "</style>\n",
              "<table border=\"1\" class=\"dataframe\">\n",
              "  <thead>\n",
              "    <tr style=\"text-align: right;\">\n",
              "      <th></th>\n",
              "      <th>Performance Record</th>\n",
              "      <th>Maturity Group</th>\n",
              "      <th>State</th>\n",
              "      <th>Year</th>\n",
              "      <th>Yield</th>\n",
              "      <th>Cluster</th>\n",
              "    </tr>\n",
              "  </thead>\n",
              "  <tbody>\n",
              "    <tr>\n",
              "      <th>0</th>\n",
              "      <td>0</td>\n",
              "      <td>3</td>\n",
              "      <td>\"KS\"</td>\n",
              "      <td>2009</td>\n",
              "      <td>39.0</td>\n",
              "      <td>6.0</td>\n",
              "    </tr>\n",
              "    <tr>\n",
              "      <th>1</th>\n",
              "      <td>1</td>\n",
              "      <td>6</td>\n",
              "      <td>\"AL\"</td>\n",
              "      <td>2013</td>\n",
              "      <td>54.2</td>\n",
              "      <td>6.0</td>\n",
              "    </tr>\n",
              "    <tr>\n",
              "      <th>2</th>\n",
              "      <td>2</td>\n",
              "      <td>4</td>\n",
              "      <td>\"TN\"</td>\n",
              "      <td>2015</td>\n",
              "      <td>73.6</td>\n",
              "      <td>3.0</td>\n",
              "    </tr>\n",
              "    <tr>\n",
              "      <th>3</th>\n",
              "      <td>3</td>\n",
              "      <td>3</td>\n",
              "      <td>\"MO\"</td>\n",
              "      <td>2014</td>\n",
              "      <td>70.9</td>\n",
              "      <td>9.0</td>\n",
              "    </tr>\n",
              "    <tr>\n",
              "      <th>4</th>\n",
              "      <td>4</td>\n",
              "      <td>3</td>\n",
              "      <td>\"NE\"</td>\n",
              "      <td>2008</td>\n",
              "      <td>82.1</td>\n",
              "      <td>12.0</td>\n",
              "    </tr>\n",
              "    <tr>\n",
              "      <th>...</th>\n",
              "      <td>...</td>\n",
              "      <td>...</td>\n",
              "      <td>...</td>\n",
              "      <td>...</td>\n",
              "      <td>...</td>\n",
              "      <td>...</td>\n",
              "    </tr>\n",
              "    <tr>\n",
              "      <th>93023</th>\n",
              "      <td>93023</td>\n",
              "      <td>8</td>\n",
              "      <td>\"AL\"</td>\n",
              "      <td>2014</td>\n",
              "      <td>22.2</td>\n",
              "      <td>0.0</td>\n",
              "    </tr>\n",
              "    <tr>\n",
              "      <th>93024</th>\n",
              "      <td>93024</td>\n",
              "      <td>4</td>\n",
              "      <td>\"IL\"</td>\n",
              "      <td>2008</td>\n",
              "      <td>68.6</td>\n",
              "      <td>9.0</td>\n",
              "    </tr>\n",
              "    <tr>\n",
              "      <th>93025</th>\n",
              "      <td>93025</td>\n",
              "      <td>2</td>\n",
              "      <td>\"IN\"</td>\n",
              "      <td>2006</td>\n",
              "      <td>65.6</td>\n",
              "      <td>6.0</td>\n",
              "    </tr>\n",
              "    <tr>\n",
              "      <th>93026</th>\n",
              "      <td>93026</td>\n",
              "      <td>5</td>\n",
              "      <td>\"LA\"</td>\n",
              "      <td>2008</td>\n",
              "      <td>43.5</td>\n",
              "      <td>0.0</td>\n",
              "    </tr>\n",
              "    <tr>\n",
              "      <th>93027</th>\n",
              "      <td>93027</td>\n",
              "      <td>8</td>\n",
              "      <td>\"GA\"</td>\n",
              "      <td>2004</td>\n",
              "      <td>40.4</td>\n",
              "      <td>8.0</td>\n",
              "    </tr>\n",
              "  </tbody>\n",
              "</table>\n",
              "<p>93028 rows × 6 columns</p>\n",
              "</div>"
            ],
            "text/plain": [
              "       Performance Record  Maturity Group State  Year  Yield  Cluster\n",
              "0                       0               3  \"KS\"  2009   39.0      6.0\n",
              "1                       1               6  \"AL\"  2013   54.2      6.0\n",
              "2                       2               4  \"TN\"  2015   73.6      3.0\n",
              "3                       3               3  \"MO\"  2014   70.9      9.0\n",
              "4                       4               3  \"NE\"  2008   82.1     12.0\n",
              "...                   ...             ...   ...   ...    ...      ...\n",
              "93023               93023               8  \"AL\"  2014   22.2      0.0\n",
              "93024               93024               4  \"IL\"  2008   68.6      9.0\n",
              "93025               93025               2  \"IN\"  2006   65.6      6.0\n",
              "93026               93026               5  \"LA\"  2008   43.5      0.0\n",
              "93027               93027               8  \"GA\"  2004   40.4      8.0\n",
              "\n",
              "[93028 rows x 6 columns]"
            ]
          },
          "metadata": {},
          "execution_count": 28
        }
      ]
    },
    {
      "cell_type": "markdown",
      "metadata": {
        "id": "dWi2-s5k2vn6"
      },
      "source": [
        "# Maturity Group Testing"
      ]
    },
    {
      "cell_type": "code",
      "metadata": {
        "id": "5JqlUMDSuQtB",
        "colab": {
          "base_uri": "https://localhost:8080/",
          "height": 419
        },
        "outputId": "a3c0fa27-24a3-4d8e-a747-4f4484bdc564"
      },
      "source": [
        "trait_df"
      ],
      "execution_count": null,
      "outputs": [
        {
          "output_type": "execute_result",
          "data": {
            "text/html": [
              "<div>\n",
              "<style scoped>\n",
              "    .dataframe tbody tr th:only-of-type {\n",
              "        vertical-align: middle;\n",
              "    }\n",
              "\n",
              "    .dataframe tbody tr th {\n",
              "        vertical-align: top;\n",
              "    }\n",
              "\n",
              "    .dataframe thead th {\n",
              "        text-align: right;\n",
              "    }\n",
              "</style>\n",
              "<table border=\"1\" class=\"dataframe\">\n",
              "  <thead>\n",
              "    <tr style=\"text-align: right;\">\n",
              "      <th></th>\n",
              "      <th>Maturity Group</th>\n",
              "      <th>State</th>\n",
              "      <th>Year</th>\n",
              "      <th>Yield</th>\n",
              "      <th>Cluster</th>\n",
              "    </tr>\n",
              "  </thead>\n",
              "  <tbody>\n",
              "    <tr>\n",
              "      <th>0</th>\n",
              "      <td>3</td>\n",
              "      <td>\"KS\"</td>\n",
              "      <td>2009</td>\n",
              "      <td>39.0</td>\n",
              "      <td>6.0</td>\n",
              "    </tr>\n",
              "    <tr>\n",
              "      <th>1</th>\n",
              "      <td>6</td>\n",
              "      <td>\"AL\"</td>\n",
              "      <td>2013</td>\n",
              "      <td>54.2</td>\n",
              "      <td>6.0</td>\n",
              "    </tr>\n",
              "    <tr>\n",
              "      <th>2</th>\n",
              "      <td>4</td>\n",
              "      <td>\"TN\"</td>\n",
              "      <td>2015</td>\n",
              "      <td>73.6</td>\n",
              "      <td>3.0</td>\n",
              "    </tr>\n",
              "    <tr>\n",
              "      <th>3</th>\n",
              "      <td>3</td>\n",
              "      <td>\"MO\"</td>\n",
              "      <td>2014</td>\n",
              "      <td>70.9</td>\n",
              "      <td>9.0</td>\n",
              "    </tr>\n",
              "    <tr>\n",
              "      <th>4</th>\n",
              "      <td>3</td>\n",
              "      <td>\"NE\"</td>\n",
              "      <td>2008</td>\n",
              "      <td>82.1</td>\n",
              "      <td>12.0</td>\n",
              "    </tr>\n",
              "    <tr>\n",
              "      <th>...</th>\n",
              "      <td>...</td>\n",
              "      <td>...</td>\n",
              "      <td>...</td>\n",
              "      <td>...</td>\n",
              "      <td>...</td>\n",
              "    </tr>\n",
              "    <tr>\n",
              "      <th>93023</th>\n",
              "      <td>8</td>\n",
              "      <td>\"AL\"</td>\n",
              "      <td>2014</td>\n",
              "      <td>22.2</td>\n",
              "      <td>0.0</td>\n",
              "    </tr>\n",
              "    <tr>\n",
              "      <th>93024</th>\n",
              "      <td>4</td>\n",
              "      <td>\"IL\"</td>\n",
              "      <td>2008</td>\n",
              "      <td>68.6</td>\n",
              "      <td>9.0</td>\n",
              "    </tr>\n",
              "    <tr>\n",
              "      <th>93025</th>\n",
              "      <td>2</td>\n",
              "      <td>\"IN\"</td>\n",
              "      <td>2006</td>\n",
              "      <td>65.6</td>\n",
              "      <td>6.0</td>\n",
              "    </tr>\n",
              "    <tr>\n",
              "      <th>93026</th>\n",
              "      <td>5</td>\n",
              "      <td>\"LA\"</td>\n",
              "      <td>2008</td>\n",
              "      <td>43.5</td>\n",
              "      <td>0.0</td>\n",
              "    </tr>\n",
              "    <tr>\n",
              "      <th>93027</th>\n",
              "      <td>8</td>\n",
              "      <td>\"GA\"</td>\n",
              "      <td>2004</td>\n",
              "      <td>40.4</td>\n",
              "      <td>8.0</td>\n",
              "    </tr>\n",
              "  </tbody>\n",
              "</table>\n",
              "<p>93028 rows × 5 columns</p>\n",
              "</div>"
            ],
            "text/plain": [
              "       Maturity Group State  Year  Yield  Cluster\n",
              "0                   3  \"KS\"  2009   39.0      6.0\n",
              "1                   6  \"AL\"  2013   54.2      6.0\n",
              "2                   4  \"TN\"  2015   73.6      3.0\n",
              "3                   3  \"MO\"  2014   70.9      9.0\n",
              "4                   3  \"NE\"  2008   82.1     12.0\n",
              "...               ...   ...   ...    ...      ...\n",
              "93023               8  \"AL\"  2014   22.2      0.0\n",
              "93024               4  \"IL\"  2008   68.6      9.0\n",
              "93025               2  \"IN\"  2006   65.6      6.0\n",
              "93026               5  \"LA\"  2008   43.5      0.0\n",
              "93027               8  \"GA\"  2004   40.4      8.0\n",
              "\n",
              "[93028 rows x 5 columns]"
            ]
          },
          "metadata": {},
          "execution_count": 29
        }
      ]
    },
    {
      "cell_type": "code",
      "metadata": {
        "id": "xJ5cR4e--ezo"
      },
      "source": [
        "states_dict = {}\n",
        "for i in trait_df.index:\n",
        "  state = trait_df.iloc[i]['State']\n",
        "  new_loc = trait_df.iloc[i]['Location']\n",
        "  locations = states_dict.get(state, [])\n",
        "  locations.append(new_loc)\n",
        "  states_dict.update({state:locations})\n"
      ],
      "execution_count": null,
      "outputs": []
    },
    {
      "cell_type": "code",
      "metadata": {
        "id": "Bmn41jG7R1qu"
      },
      "source": [
        "mg_dict = {}\n",
        "for i in trait_df.index:\n",
        "  state = trait_df.iloc[i]['State']\n",
        "  new_mg = trait_df.iloc[i]['Maturity Group']\n",
        "  mgs = mg_dict.get(state, [])\n",
        "  mgs.append(new_mg)\n",
        "  mg_dict.update({state:mgs})\n",
        "  "
      ],
      "execution_count": null,
      "outputs": []
    },
    {
      "cell_type": "code",
      "metadata": {
        "id": "Bq1P7NiSQ9xx"
      },
      "source": [
        "stmg_df = pd.DataFrame()\n",
        "for key in mg_dict.keys():\n",
        "  states_mgs = mg_dict.get(key)\n",
        "  counts = []\n",
        "  mg_values = [-1, 0, 1, 2, 3, 4, 5, 6, 7, 8]\n",
        "  for mg in mg_values:\n",
        "    new_count = states_mgs.count(mg)\n",
        "    counts.append(new_count)\n",
        "  stmg_df[key]=pd.Series(counts,index=mg_values)\n"
      ],
      "execution_count": null,
      "outputs": []
    },
    {
      "cell_type": "code",
      "metadata": {
        "colab": {
          "base_uri": "https://localhost:8080/",
          "height": 379
        },
        "id": "iIhxTSPUzU1u",
        "outputId": "a0e42d45-52f7-4e0d-d1e6-95e191eaf16d"
      },
      "source": [
        "# Data frame showing counts of maturity group by state/province\n",
        "stmg_df"
      ],
      "execution_count": null,
      "outputs": [
        {
          "output_type": "execute_result",
          "data": {
            "text/html": [
              "<div>\n",
              "<style scoped>\n",
              "    .dataframe tbody tr th:only-of-type {\n",
              "        vertical-align: middle;\n",
              "    }\n",
              "\n",
              "    .dataframe tbody tr th {\n",
              "        vertical-align: top;\n",
              "    }\n",
              "\n",
              "    .dataframe thead th {\n",
              "        text-align: right;\n",
              "    }\n",
              "</style>\n",
              "<table border=\"1\" class=\"dataframe\">\n",
              "  <thead>\n",
              "    <tr style=\"text-align: right;\">\n",
              "      <th></th>\n",
              "      <th>\"KS\"</th>\n",
              "      <th>\"AL\"</th>\n",
              "      <th>\"TN\"</th>\n",
              "      <th>\"MO\"</th>\n",
              "      <th>\"NE\"</th>\n",
              "      <th>\"SC\"</th>\n",
              "      <th>\"QUE\"</th>\n",
              "      <th>\"OH\"</th>\n",
              "      <th>\"VA\"</th>\n",
              "      <th>\"IN\"</th>\n",
              "      <th>\"NC\"</th>\n",
              "      <th>\"IL\"</th>\n",
              "      <th>\"MI\"</th>\n",
              "      <th>\"MS\"</th>\n",
              "      <th>\"AR\"</th>\n",
              "      <th>\"ONT\"</th>\n",
              "      <th>\"MN\"</th>\n",
              "      <th>\"SD\"</th>\n",
              "      <th>\"MD\"</th>\n",
              "      <th>\"IA\"</th>\n",
              "      <th>\"TX\"</th>\n",
              "      <th>\"KY\"</th>\n",
              "      <th>\"ND\"</th>\n",
              "      <th>\"GA\"</th>\n",
              "      <th>\"MAN\"</th>\n",
              "      <th>\"LA\"</th>\n",
              "      <th>\"DE\"</th>\n",
              "      <th>\"OK\"</th>\n",
              "    </tr>\n",
              "  </thead>\n",
              "  <tbody>\n",
              "    <tr>\n",
              "      <th>-1</th>\n",
              "      <td>0</td>\n",
              "      <td>0</td>\n",
              "      <td>0</td>\n",
              "      <td>0</td>\n",
              "      <td>0</td>\n",
              "      <td>0</td>\n",
              "      <td>498</td>\n",
              "      <td>0</td>\n",
              "      <td>0</td>\n",
              "      <td>0</td>\n",
              "      <td>0</td>\n",
              "      <td>0</td>\n",
              "      <td>0</td>\n",
              "      <td>0</td>\n",
              "      <td>64</td>\n",
              "      <td>725</td>\n",
              "      <td>1031</td>\n",
              "      <td>0</td>\n",
              "      <td>0</td>\n",
              "      <td>0</td>\n",
              "      <td>0</td>\n",
              "      <td>0</td>\n",
              "      <td>557</td>\n",
              "      <td>0</td>\n",
              "      <td>126</td>\n",
              "      <td>0</td>\n",
              "      <td>0</td>\n",
              "      <td>0</td>\n",
              "    </tr>\n",
              "    <tr>\n",
              "      <th>0</th>\n",
              "      <td>0</td>\n",
              "      <td>0</td>\n",
              "      <td>0</td>\n",
              "      <td>35</td>\n",
              "      <td>287</td>\n",
              "      <td>0</td>\n",
              "      <td>908</td>\n",
              "      <td>0</td>\n",
              "      <td>0</td>\n",
              "      <td>0</td>\n",
              "      <td>0</td>\n",
              "      <td>0</td>\n",
              "      <td>161</td>\n",
              "      <td>0</td>\n",
              "      <td>90</td>\n",
              "      <td>1772</td>\n",
              "      <td>1810</td>\n",
              "      <td>1299</td>\n",
              "      <td>0</td>\n",
              "      <td>0</td>\n",
              "      <td>0</td>\n",
              "      <td>0</td>\n",
              "      <td>855</td>\n",
              "      <td>0</td>\n",
              "      <td>0</td>\n",
              "      <td>0</td>\n",
              "      <td>0</td>\n",
              "      <td>0</td>\n",
              "    </tr>\n",
              "    <tr>\n",
              "      <th>1</th>\n",
              "      <td>0</td>\n",
              "      <td>0</td>\n",
              "      <td>0</td>\n",
              "      <td>29</td>\n",
              "      <td>2120</td>\n",
              "      <td>0</td>\n",
              "      <td>777</td>\n",
              "      <td>0</td>\n",
              "      <td>0</td>\n",
              "      <td>1259</td>\n",
              "      <td>0</td>\n",
              "      <td>0</td>\n",
              "      <td>1142</td>\n",
              "      <td>0</td>\n",
              "      <td>74</td>\n",
              "      <td>745</td>\n",
              "      <td>1655</td>\n",
              "      <td>1182</td>\n",
              "      <td>0</td>\n",
              "      <td>1114</td>\n",
              "      <td>0</td>\n",
              "      <td>0</td>\n",
              "      <td>0</td>\n",
              "      <td>0</td>\n",
              "      <td>0</td>\n",
              "      <td>0</td>\n",
              "      <td>0</td>\n",
              "      <td>0</td>\n",
              "    </tr>\n",
              "    <tr>\n",
              "      <th>2</th>\n",
              "      <td>0</td>\n",
              "      <td>0</td>\n",
              "      <td>0</td>\n",
              "      <td>27</td>\n",
              "      <td>3481</td>\n",
              "      <td>0</td>\n",
              "      <td>0</td>\n",
              "      <td>1376</td>\n",
              "      <td>0</td>\n",
              "      <td>1753</td>\n",
              "      <td>0</td>\n",
              "      <td>1479</td>\n",
              "      <td>1643</td>\n",
              "      <td>0</td>\n",
              "      <td>144</td>\n",
              "      <td>1484</td>\n",
              "      <td>768</td>\n",
              "      <td>1478</td>\n",
              "      <td>0</td>\n",
              "      <td>1570</td>\n",
              "      <td>0</td>\n",
              "      <td>0</td>\n",
              "      <td>0</td>\n",
              "      <td>0</td>\n",
              "      <td>0</td>\n",
              "      <td>0</td>\n",
              "      <td>0</td>\n",
              "      <td>0</td>\n",
              "    </tr>\n",
              "    <tr>\n",
              "      <th>3</th>\n",
              "      <td>1839</td>\n",
              "      <td>0</td>\n",
              "      <td>0</td>\n",
              "      <td>1569</td>\n",
              "      <td>3299</td>\n",
              "      <td>0</td>\n",
              "      <td>0</td>\n",
              "      <td>2126</td>\n",
              "      <td>0</td>\n",
              "      <td>1848</td>\n",
              "      <td>0</td>\n",
              "      <td>1373</td>\n",
              "      <td>0</td>\n",
              "      <td>0</td>\n",
              "      <td>166</td>\n",
              "      <td>0</td>\n",
              "      <td>0</td>\n",
              "      <td>0</td>\n",
              "      <td>113</td>\n",
              "      <td>1647</td>\n",
              "      <td>0</td>\n",
              "      <td>0</td>\n",
              "      <td>0</td>\n",
              "      <td>0</td>\n",
              "      <td>0</td>\n",
              "      <td>0</td>\n",
              "      <td>33</td>\n",
              "      <td>0</td>\n",
              "    </tr>\n",
              "    <tr>\n",
              "      <th>4</th>\n",
              "      <td>2298</td>\n",
              "      <td>0</td>\n",
              "      <td>2029</td>\n",
              "      <td>2501</td>\n",
              "      <td>31</td>\n",
              "      <td>0</td>\n",
              "      <td>0</td>\n",
              "      <td>268</td>\n",
              "      <td>1179</td>\n",
              "      <td>851</td>\n",
              "      <td>558</td>\n",
              "      <td>2237</td>\n",
              "      <td>0</td>\n",
              "      <td>1024</td>\n",
              "      <td>1735</td>\n",
              "      <td>0</td>\n",
              "      <td>0</td>\n",
              "      <td>0</td>\n",
              "      <td>928</td>\n",
              "      <td>0</td>\n",
              "      <td>268</td>\n",
              "      <td>725</td>\n",
              "      <td>0</td>\n",
              "      <td>0</td>\n",
              "      <td>0</td>\n",
              "      <td>217</td>\n",
              "      <td>170</td>\n",
              "      <td>434</td>\n",
              "    </tr>\n",
              "    <tr>\n",
              "      <th>5</th>\n",
              "      <td>1629</td>\n",
              "      <td>324</td>\n",
              "      <td>1419</td>\n",
              "      <td>1223</td>\n",
              "      <td>0</td>\n",
              "      <td>0</td>\n",
              "      <td>0</td>\n",
              "      <td>0</td>\n",
              "      <td>1523</td>\n",
              "      <td>0</td>\n",
              "      <td>921</td>\n",
              "      <td>489</td>\n",
              "      <td>0</td>\n",
              "      <td>1071</td>\n",
              "      <td>1681</td>\n",
              "      <td>0</td>\n",
              "      <td>0</td>\n",
              "      <td>0</td>\n",
              "      <td>530</td>\n",
              "      <td>0</td>\n",
              "      <td>239</td>\n",
              "      <td>248</td>\n",
              "      <td>0</td>\n",
              "      <td>31</td>\n",
              "      <td>0</td>\n",
              "      <td>389</td>\n",
              "      <td>100</td>\n",
              "      <td>408</td>\n",
              "    </tr>\n",
              "    <tr>\n",
              "      <th>6</th>\n",
              "      <td>0</td>\n",
              "      <td>1086</td>\n",
              "      <td>0</td>\n",
              "      <td>0</td>\n",
              "      <td>0</td>\n",
              "      <td>722</td>\n",
              "      <td>0</td>\n",
              "      <td>0</td>\n",
              "      <td>464</td>\n",
              "      <td>0</td>\n",
              "      <td>736</td>\n",
              "      <td>0</td>\n",
              "      <td>0</td>\n",
              "      <td>545</td>\n",
              "      <td>1076</td>\n",
              "      <td>0</td>\n",
              "      <td>0</td>\n",
              "      <td>0</td>\n",
              "      <td>0</td>\n",
              "      <td>0</td>\n",
              "      <td>51</td>\n",
              "      <td>0</td>\n",
              "      <td>0</td>\n",
              "      <td>805</td>\n",
              "      <td>0</td>\n",
              "      <td>265</td>\n",
              "      <td>0</td>\n",
              "      <td>246</td>\n",
              "    </tr>\n",
              "    <tr>\n",
              "      <th>7</th>\n",
              "      <td>0</td>\n",
              "      <td>740</td>\n",
              "      <td>0</td>\n",
              "      <td>0</td>\n",
              "      <td>0</td>\n",
              "      <td>740</td>\n",
              "      <td>0</td>\n",
              "      <td>0</td>\n",
              "      <td>0</td>\n",
              "      <td>0</td>\n",
              "      <td>956</td>\n",
              "      <td>0</td>\n",
              "      <td>0</td>\n",
              "      <td>111</td>\n",
              "      <td>0</td>\n",
              "      <td>0</td>\n",
              "      <td>0</td>\n",
              "      <td>0</td>\n",
              "      <td>0</td>\n",
              "      <td>0</td>\n",
              "      <td>0</td>\n",
              "      <td>0</td>\n",
              "      <td>0</td>\n",
              "      <td>1601</td>\n",
              "      <td>0</td>\n",
              "      <td>197</td>\n",
              "      <td>0</td>\n",
              "      <td>0</td>\n",
              "    </tr>\n",
              "    <tr>\n",
              "      <th>8</th>\n",
              "      <td>0</td>\n",
              "      <td>830</td>\n",
              "      <td>0</td>\n",
              "      <td>0</td>\n",
              "      <td>0</td>\n",
              "      <td>734</td>\n",
              "      <td>0</td>\n",
              "      <td>0</td>\n",
              "      <td>0</td>\n",
              "      <td>0</td>\n",
              "      <td>576</td>\n",
              "      <td>0</td>\n",
              "      <td>0</td>\n",
              "      <td>0</td>\n",
              "      <td>0</td>\n",
              "      <td>0</td>\n",
              "      <td>0</td>\n",
              "      <td>0</td>\n",
              "      <td>0</td>\n",
              "      <td>0</td>\n",
              "      <td>0</td>\n",
              "      <td>0</td>\n",
              "      <td>0</td>\n",
              "      <td>1338</td>\n",
              "      <td>0</td>\n",
              "      <td>0</td>\n",
              "      <td>0</td>\n",
              "      <td>0</td>\n",
              "    </tr>\n",
              "  </tbody>\n",
              "</table>\n",
              "</div>"
            ],
            "text/plain": [
              "    \"KS\"  \"AL\"  \"TN\"  \"MO\"  \"NE\"  \"SC\"  ...  \"ND\"  \"GA\"  \"MAN\"  \"LA\"  \"DE\"  \"OK\"\n",
              "-1     0     0     0     0     0     0  ...   557     0    126     0     0     0\n",
              " 0     0     0     0    35   287     0  ...   855     0      0     0     0     0\n",
              " 1     0     0     0    29  2120     0  ...     0     0      0     0     0     0\n",
              " 2     0     0     0    27  3481     0  ...     0     0      0     0     0     0\n",
              " 3  1839     0     0  1569  3299     0  ...     0     0      0     0    33     0\n",
              " 4  2298     0  2029  2501    31     0  ...     0     0      0   217   170   434\n",
              " 5  1629   324  1419  1223     0     0  ...     0    31      0   389   100   408\n",
              " 6     0  1086     0     0     0   722  ...     0   805      0   265     0   246\n",
              " 7     0   740     0     0     0   740  ...     0  1601      0   197     0     0\n",
              " 8     0   830     0     0     0   734  ...     0  1338      0     0     0     0\n",
              "\n",
              "[10 rows x 28 columns]"
            ]
          },
          "metadata": {},
          "execution_count": 30
        }
      ]
    },
    {
      "cell_type": "code",
      "metadata": {
        "colab": {
          "base_uri": "https://localhost:8080/",
          "height": 419
        },
        "id": "GA4QqrG-2BxP",
        "outputId": "2ee8cb04-258a-4d05-c924-c60a5faf3f13"
      },
      "source": [
        "# focusing on the state of Arkansas, creating a data frame of maturity groups and yields for all \"AR\" performance records\n",
        "AR_df = pd.DataFrame()\n",
        "AR_mgs = []\n",
        "AR_yields = []\n",
        "for i in trait_df.index:\n",
        "  state = trait_df.iloc[i]['State']\n",
        "  if state == '\"AR\"':\n",
        "    new_mg = trait_df.iloc[i]['Maturity Group']\n",
        "    AR_mgs.append(new_mg)\n",
        "    new_yield = trait_df.iloc[i]['Yield']\n",
        "    AR_yields.append(new_yield)\n",
        "AR_df['Maturity Group']=pd.Series(AR_mgs)\n",
        "AR_df['Yield']=pd.Series(AR_yields)\n",
        "AR_df"
      ],
      "execution_count": null,
      "outputs": [
        {
          "output_type": "execute_result",
          "data": {
            "text/html": [
              "<div>\n",
              "<style scoped>\n",
              "    .dataframe tbody tr th:only-of-type {\n",
              "        vertical-align: middle;\n",
              "    }\n",
              "\n",
              "    .dataframe tbody tr th {\n",
              "        vertical-align: top;\n",
              "    }\n",
              "\n",
              "    .dataframe thead th {\n",
              "        text-align: right;\n",
              "    }\n",
              "</style>\n",
              "<table border=\"1\" class=\"dataframe\">\n",
              "  <thead>\n",
              "    <tr style=\"text-align: right;\">\n",
              "      <th></th>\n",
              "      <th>Maturity Group</th>\n",
              "      <th>Yield</th>\n",
              "    </tr>\n",
              "  </thead>\n",
              "  <tbody>\n",
              "    <tr>\n",
              "      <th>0</th>\n",
              "      <td>-1</td>\n",
              "      <td>44.4</td>\n",
              "    </tr>\n",
              "    <tr>\n",
              "      <th>1</th>\n",
              "      <td>5</td>\n",
              "      <td>59.3</td>\n",
              "    </tr>\n",
              "    <tr>\n",
              "      <th>2</th>\n",
              "      <td>4</td>\n",
              "      <td>11.1</td>\n",
              "    </tr>\n",
              "    <tr>\n",
              "      <th>3</th>\n",
              "      <td>6</td>\n",
              "      <td>62.2</td>\n",
              "    </tr>\n",
              "    <tr>\n",
              "      <th>4</th>\n",
              "      <td>4</td>\n",
              "      <td>47.4</td>\n",
              "    </tr>\n",
              "    <tr>\n",
              "      <th>...</th>\n",
              "      <td>...</td>\n",
              "      <td>...</td>\n",
              "    </tr>\n",
              "    <tr>\n",
              "      <th>5025</th>\n",
              "      <td>4</td>\n",
              "      <td>45.6</td>\n",
              "    </tr>\n",
              "    <tr>\n",
              "      <th>5026</th>\n",
              "      <td>4</td>\n",
              "      <td>47.1</td>\n",
              "    </tr>\n",
              "    <tr>\n",
              "      <th>5027</th>\n",
              "      <td>6</td>\n",
              "      <td>42.0</td>\n",
              "    </tr>\n",
              "    <tr>\n",
              "      <th>5028</th>\n",
              "      <td>4</td>\n",
              "      <td>60.7</td>\n",
              "    </tr>\n",
              "    <tr>\n",
              "      <th>5029</th>\n",
              "      <td>4</td>\n",
              "      <td>51.4</td>\n",
              "    </tr>\n",
              "  </tbody>\n",
              "</table>\n",
              "<p>5030 rows × 2 columns</p>\n",
              "</div>"
            ],
            "text/plain": [
              "      Maturity Group  Yield\n",
              "0                 -1   44.4\n",
              "1                  5   59.3\n",
              "2                  4   11.1\n",
              "3                  6   62.2\n",
              "4                  4   47.4\n",
              "...              ...    ...\n",
              "5025               4   45.6\n",
              "5026               4   47.1\n",
              "5027               6   42.0\n",
              "5028               4   60.7\n",
              "5029               4   51.4\n",
              "\n",
              "[5030 rows x 2 columns]"
            ]
          },
          "metadata": {},
          "execution_count": 31
        }
      ]
    },
    {
      "cell_type": "code",
      "metadata": {
        "colab": {
          "base_uri": "https://localhost:8080/",
          "height": 296
        },
        "id": "cqK1t6606Nlm",
        "outputId": "cb7aae53-74b4-40f7-eac7-b02e81088b0b"
      },
      "source": [
        "# Analyzing the relationship between Maturity Group and Yield \n",
        "\n",
        "sns.barplot(data = AR_df.groupby('Maturity Group').mean().reset_index(), x = 'Maturity Group', y = 'Yield', color = 'cornflowerblue')"
      ],
      "execution_count": null,
      "outputs": [
        {
          "output_type": "execute_result",
          "data": {
            "text/plain": [
              "<matplotlib.axes._subplots.AxesSubplot at 0x7f60ca5e0ad0>"
            ]
          },
          "metadata": {},
          "execution_count": 32
        },
        {
          "output_type": "display_data",
          "data": {
            "image/png": "[encoded data removed]",
            "text/plain": [
              "<Figure size 432x288 with 1 Axes>"
            ]
          },
          "metadata": {
            "needs_background": "light"
          }
        }
      ]
    },
    {
      "cell_type": "code",
      "metadata": {
        "colab": {
          "base_uri": "https://localhost:8080/",
          "height": 281
        },
        "id": "AympjWQlHkxM",
        "outputId": "9b150d9e-9df4-4268-8006-c2dc043b6f44"
      },
      "source": [
        "ax = sns.scatterplot(data = AR_df, x = 'Maturity Group', y = 'Yield')\n",
        "ax.xaxis.set_major_locator(ticker.MultipleLocator(10))\n",
        "plt.xticks(rotation=45);"
      ],
      "execution_count": null,
      "outputs": [
        {
          "output_type": "display_data",
          "data": {
            "image/png": "[encoded data removed]",
            "text/plain": [
              "<Figure size 432x288 with 1 Axes>"
            ]
          },
          "metadata": {
            "needs_background": "light"
          }
        }
      ]
    },
    {
      "cell_type": "code",
      "metadata": {
        "colab": {
          "base_uri": "https://localhost:8080/",
          "height": 279
        },
        "id": "im7NZiIeIBTY",
        "outputId": "64d470f9-46a9-41b2-cfe5-6fa5eb253c8c"
      },
      "source": [
        "sns.boxplot(data = AR_df, x = 'Maturity Group', y = 'Yield', color = 'cornflowerblue')\n",
        "plt.xticks(rotation=90);"
      ],
      "execution_count": null,
      "outputs": [
        {
          "output_type": "display_data",
          "data": {
            "image/png": "[encoded data removed]",
            "text/plain": [
              "<Figure size 432x288 with 1 Axes>"
            ]
          },
          "metadata": {
            "needs_background": "light"
          }
        }
      ]
    },
    {
      "cell_type": "code",
      "metadata": {
        "colab": {
          "base_uri": "https://localhost:8080/",
          "height": 296
        },
        "id": "C2GPw8jm6i29",
        "outputId": "2f871e54-0a87-4230-921a-19949479bae8"
      },
      "source": [
        "NC_df = pd.DataFrame()\n",
        "NC_mgs = []\n",
        "NC_yields = []\n",
        "for i in trait_df.index:\n",
        "  state = trait_df.iloc[i]['State']\n",
        "  if state == '\"NC\"':\n",
        "    new_mg = trait_df.iloc[i]['Maturity Group']\n",
        "    NC_mgs.append(new_mg)\n",
        "    new_yield = trait_df.iloc[i]['Yield']\n",
        "    NC_yields.append(new_yield)\n",
        "NC_df['Maturity Group']=pd.Series(NC_mgs)\n",
        "NC_df['Yield']=pd.Series(NC_yields)\n",
        "NC_df\n",
        "sns.barplot(data = NC_df.groupby('Maturity Group').mean().reset_index(), x = 'Maturity Group', y = 'Yield', color = 'cornflowerblue')"
      ],
      "execution_count": null,
      "outputs": [
        {
          "output_type": "execute_result",
          "data": {
            "text/plain": [
              "<matplotlib.axes._subplots.AxesSubplot at 0x7f60ca6a3dd0>"
            ]
          },
          "metadata": {},
          "execution_count": 33
        },
        {
          "output_type": "display_data",
          "data": {
            "image/png": "[encoded data removed]",
            "text/plain": [
              "<Figure size 432x288 with 1 Axes>"
            ]
          },
          "metadata": {
            "needs_background": "light"
          }
        }
      ]
    }
  ]
}